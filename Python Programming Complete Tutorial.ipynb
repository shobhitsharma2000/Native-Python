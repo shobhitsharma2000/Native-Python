{
 "cells": [
  {
   "cell_type": "markdown",
   "metadata": {},
   "source": [
    "# Starting of Tutorial"
   ]
  },
  {
   "cell_type": "markdown",
   "metadata": {},
   "source": [
    "## File Extensions in Python\n",
    ".py –The normal extension for a Python source file\n",
    "\n",
    ".pyc- The compiled bytecode\n",
    "\n",
    ".pyd- A Windows DLL file\n",
    "\n",
    ".pyo- A file created with optimizations\n",
    "\n",
    ".pyw- A Python script for Windows\n",
    "\n",
    ".pyz- A Python script archive"
   ]
  },
  {
   "cell_type": "markdown",
   "metadata": {},
   "source": [
    "# Applicatios of Python "
   ]
  },
  {
   "cell_type": "markdown",
   "metadata": {},
   "source": [
    "1)-Build a website\n",
    "\n",
    "2)-Develop a game\n",
    "\n",
    "3)-Perform Computer Vision (Facilities like face-detection and color-detection)\n",
    "\n",
    "4)-Implement Machine Learning (Give a computer the ability to learn)\n",
    "\n",
    "5)-Enable Robotics\n",
    "\n",
    "6)-Perform Web Scraping (Harvest data from websites)\n",
    "\n",
    "7)-Perform Data Analysis\n",
    "\n",
    "8)-Automate a web browser\n",
    "\n",
    "9)-Perform Scripting\n",
    "\n",
    "10)-Perform Scientific Computing\n",
    "\n",
    "11)-Build Artificial Intelligence"
   ]
  },
  {
   "cell_type": "markdown",
   "metadata": {},
   "source": [
    "# 16 Facts About Python\n",
    "\n",
    "### https://data-flair.training/blogs/facts-about-python-programming/"
   ]
  },
  {
   "cell_type": "markdown",
   "metadata": {},
   "source": [
    "## Before Start your First python Code, its advisable to setup a Virtual environment "
   ]
  },
  {
   "cell_type": "markdown",
   "metadata": {},
   "source": [
    "### Step to Install Virtual Env\n",
    "\n",
    "\n",
    "https://data-flair.training/blogs/python-virtual-environment/"
   ]
  },
  {
   "cell_type": "markdown",
   "metadata": {},
   "source": [
    "### In Windows OS ,to check if Python is installed.\n",
    "\n",
    "#### On Command Prompt type >> python or python --version"
   ]
  },
  {
   "cell_type": "code",
   "execution_count": 7,
   "metadata": {},
   "outputs": [
    {
     "name": "stdout",
     "output_type": "stream",
     "text": [
      "Hello World !\n"
     ]
    }
   ],
   "source": [
    "# In Python 3 and Above Print needs a paranthesis\n",
    "\n",
    "print ('Hello World !')\n",
    "\n",
    "# Where in 2.0  > version < 3.0 , their was no need of paranthesis\n",
    "\n",
    "# print \"Hello World !\""
   ]
  },
  {
   "cell_type": "markdown",
   "metadata": {},
   "source": [
    "# Variable in Python"
   ]
  },
  {
   "cell_type": "code",
   "execution_count": 1,
   "metadata": {},
   "outputs": [
    {
     "name": "stdout",
     "output_type": "stream",
     "text": [
      "5\n"
     ]
    }
   ],
   "source": [
    "# Integer\n",
    "a=5\n",
    "print(a)"
   ]
  },
  {
   "cell_type": "code",
   "execution_count": 2,
   "metadata": {},
   "outputs": [
    {
     "name": "stdout",
     "output_type": "stream",
     "text": [
      "5.32344\n"
     ]
    }
   ],
   "source": [
    "# Float\n",
    "b=5.32344\n",
    "print(b)"
   ]
  },
  {
   "cell_type": "code",
   "execution_count": 3,
   "metadata": {},
   "outputs": [
    {
     "name": "stdout",
     "output_type": "stream",
     "text": [
      "A\n"
     ]
    }
   ],
   "source": [
    "# String\n",
    "c='A'\n",
    "print (c)"
   ]
  },
  {
   "cell_type": "code",
   "execution_count": 4,
   "metadata": {},
   "outputs": [
    {
     "name": "stdout",
     "output_type": "stream",
     "text": [
      "Shobhit Sharma\n"
     ]
    }
   ],
   "source": [
    "# String\n",
    "d='Shobhit Sharma'\n",
    "print(d)"
   ]
  },
  {
   "cell_type": "code",
   "execution_count": 6,
   "metadata": {},
   "outputs": [
    {
     "name": "stdout",
     "output_type": "stream",
     "text": [
      "True\n"
     ]
    }
   ],
   "source": [
    "# Boolean\n",
    "e= True\n",
    "print(e)"
   ]
  },
  {
   "cell_type": "code",
   "execution_count": 8,
   "metadata": {},
   "outputs": [
    {
     "name": "stdout",
     "output_type": "stream",
     "text": [
      "None\n"
     ]
    }
   ],
   "source": [
    "# Null Value\n",
    "f= None\n",
    "print(f)"
   ]
  },
  {
   "cell_type": "code",
   "execution_count": 16,
   "metadata": {},
   "outputs": [
    {
     "name": "stdout",
     "output_type": "stream",
     "text": [
      "['False', 'None', 'True', 'and', 'as', 'assert', 'async', 'await', 'break', 'class', 'continue', 'def', 'del', 'elif', 'else', 'except', 'finally', 'for', 'from', 'global', 'if', 'import', 'in', 'is', 'lambda', 'nonlocal', 'not', 'or', 'pass', 'raise', 'return', 'try', 'while', 'with', 'yield']\n"
     ]
    }
   ],
   "source": [
    "# List of Keyword in Python using library Keyword\n",
    "# All these Keywords can not be used as Variable Name\n",
    "import keyword\n",
    "print (keyword.kwlist)"
   ]
  },
  {
   "cell_type": "code",
   "execution_count": 14,
   "metadata": {},
   "outputs": [
    {
     "name": "stdout",
     "output_type": "stream",
     "text": [
      "<function main at 0x000001CAFF73B158>\n"
     ]
    }
   ],
   "source": [
    "print (keyword.main)"
   ]
  },
  {
   "cell_type": "code",
   "execution_count": 17,
   "metadata": {},
   "outputs": [
    {
     "name": "stdout",
     "output_type": "stream",
     "text": [
      "<built-in method __contains__ of frozenset object at 0x000001CAFD8D4828>\n"
     ]
    }
   ],
   "source": [
    "print (keyword.iskeyword)"
   ]
  },
  {
   "cell_type": "code",
   "execution_count": 22,
   "metadata": {},
   "outputs": [
    {
     "name": "stdout",
     "output_type": "stream",
     "text": [
      "<class 'int'>\n",
      "<class 'float'>\n",
      "<class 'str'>\n",
      "<class 'str'>\n",
      "<class 'bool'>\n",
      "<class 'NoneType'>\n"
     ]
    }
   ],
   "source": [
    "# Type keyword to return the type of variable\n",
    "\n",
    "print(type(a))\n",
    "print(type(b))\n",
    "print(type(c))\n",
    "print(type(d))\n",
    "print(type(e))\n",
    "print(type(f))"
   ]
  },
  {
   "cell_type": "code",
   "execution_count": 23,
   "metadata": {},
   "outputs": [
    {
     "data": {
      "text/plain": [
       "'5'"
      ]
     },
     "execution_count": 23,
     "metadata": {},
     "output_type": "execute_result"
    }
   ],
   "source": [
    "# Variable Assignment is = operator\n",
    "a='5'\n",
    "a"
   ]
  },
  {
   "cell_type": "code",
   "execution_count": 26,
   "metadata": {},
   "outputs": [
    {
     "name": "stdout",
     "output_type": "stream",
     "text": [
      "2\n",
      "1 2 3\n"
     ]
    }
   ],
   "source": [
    "# Multi variale assignment \n",
    "\n",
    "x,y,z = 1,2,3\n",
    "print(z-x)\n",
    "print (x,y,z)"
   ]
  },
  {
   "cell_type": "code",
   "execution_count": 28,
   "metadata": {},
   "outputs": [
    {
     "ename": "ValueError",
     "evalue": "too many values to unpack (expected 2)",
     "output_type": "error",
     "traceback": [
      "\u001b[1;31m---------------------------------------------------------------------------\u001b[0m",
      "\u001b[1;31mValueError\u001b[0m                                Traceback (most recent call last)",
      "\u001b[1;32m<ipython-input-28-20454cde2176>\u001b[0m in \u001b[0;36m<module>\u001b[1;34m\u001b[0m\n\u001b[0;32m      1\u001b[0m \u001b[1;31m# Number of variables should be same as of objects\u001b[0m\u001b[1;33m\u001b[0m\u001b[1;33m\u001b[0m\u001b[1;33m\u001b[0m\u001b[0m\n\u001b[1;32m----> 2\u001b[1;33m \u001b[0mx\u001b[0m\u001b[1;33m,\u001b[0m\u001b[0my\u001b[0m\u001b[1;33m=\u001b[0m \u001b[1;36m1\u001b[0m\u001b[1;33m,\u001b[0m\u001b[1;36m2\u001b[0m\u001b[1;33m,\u001b[0m\u001b[1;36m3\u001b[0m\u001b[1;33m\u001b[0m\u001b[1;33m\u001b[0m\u001b[0m\n\u001b[0m",
      "\u001b[1;31mValueError\u001b[0m: too many values to unpack (expected 2)"
     ]
    }
   ],
   "source": [
    "# Number of variables should be same as of objects\n",
    "x,y= 1,2,3"
   ]
  },
  {
   "cell_type": "code",
   "execution_count": 1,
   "metadata": {},
   "outputs": [
    {
     "name": "stdout",
     "output_type": "stream",
     "text": [
      "Collecting jupyterlab-git\n",
      "  Downloading https://files.pythonhosted.org/packages/25/20/cd8809a7ab7fe3ce54a10effabef5da5617d515645f030b81332d3062053/jupyterlab_git-0.8.1-py2.py3-none-any.whl\n",
      "Requirement already satisfied, skipping upgrade: notebook in c:\\users\\ssharm04\\appdata\\local\\continuum\\anaconda3\\lib\\site-packages (from jupyterlab-git) (6.0.0)\n",
      "Collecting nbdime>=1.1.0 (from jupyterlab-git)\n",
      "  Downloading https://files.pythonhosted.org/packages/0f/3f/668922f04fa6848437d8486c495ceea2fbe2b011e1084cb49a792c4bec31/nbdime-1.1.0-py2.py3-none-any.whl (4.3MB)\n",
      "Requirement already satisfied, skipping upgrade: nbformat in c:\\users\\ssharm04\\appdata\\local\\continuum\\anaconda3\\lib\\site-packages (from notebook->jupyterlab-git) (4.4.0)\n",
      "Requirement already satisfied, skipping upgrade: pyzmq>=17 in c:\\users\\ssharm04\\appdata\\local\\continuum\\anaconda3\\lib\\site-packages (from notebook->jupyterlab-git) (18.0.0)\n",
      "Requirement already satisfied, skipping upgrade: jupyter-client>=5.3.1 in c:\\users\\ssharm04\\appdata\\local\\continuum\\anaconda3\\lib\\site-packages (from notebook->jupyterlab-git) (5.3.1)\n",
      "Requirement already satisfied, skipping upgrade: jinja2 in c:\\users\\ssharm04\\appdata\\local\\continuum\\anaconda3\\lib\\site-packages (from notebook->jupyterlab-git) (2.10.1)\n",
      "Requirement already satisfied, skipping upgrade: ipython-genutils in c:\\users\\ssharm04\\appdata\\local\\continuum\\anaconda3\\lib\\site-packages (from notebook->jupyterlab-git) (0.2.0)\n",
      "Requirement already satisfied, skipping upgrade: nbconvert in c:\\users\\ssharm04\\appdata\\local\\continuum\\anaconda3\\lib\\site-packages (from notebook->jupyterlab-git) (5.5.0)\n",
      "Requirement already satisfied, skipping upgrade: traitlets>=4.2.1 in c:\\users\\ssharm04\\appdata\\local\\continuum\\anaconda3\\lib\\site-packages (from notebook->jupyterlab-git) (4.3.2)\n",
      "Requirement already satisfied, skipping upgrade: jupyter-core>=4.4.0 in c:\\users\\ssharm04\\appdata\\local\\continuum\\anaconda3\\lib\\site-packages (from notebook->jupyterlab-git) (4.5.0)\n",
      "Requirement already satisfied, skipping upgrade: tornado>=5.0 in c:\\users\\ssharm04\\appdata\\local\\continuum\\anaconda3\\lib\\site-packages (from notebook->jupyterlab-git) (6.0.3)\n",
      "Requirement already satisfied, skipping upgrade: terminado>=0.8.1 in c:\\users\\ssharm04\\appdata\\local\\continuum\\anaconda3\\lib\\site-packages (from notebook->jupyterlab-git) (0.8.2)\n",
      "Requirement already satisfied, skipping upgrade: ipykernel in c:\\users\\ssharm04\\appdata\\local\\continuum\\anaconda3\\lib\\site-packages (from notebook->jupyterlab-git) (5.1.1)\n",
      "Requirement already satisfied, skipping upgrade: prometheus-client in c:\\users\\ssharm04\\appdata\\local\\continuum\\anaconda3\\lib\\site-packages (from notebook->jupyterlab-git) (0.7.1)\n",
      "Requirement already satisfied, skipping upgrade: Send2Trash in c:\\users\\ssharm04\\appdata\\local\\continuum\\anaconda3\\lib\\site-packages (from notebook->jupyterlab-git) (1.5.0)\n",
      "Requirement already satisfied, skipping upgrade: colorama in c:\\users\\ssharm04\\appdata\\local\\continuum\\anaconda3\\lib\\site-packages (from nbdime>=1.1.0->jupyterlab-git) (0.4.1)\n",
      "Requirement already satisfied, skipping upgrade: six in c:\\users\\ssharm04\\appdata\\local\\continuum\\anaconda3\\lib\\site-packages (from nbdime>=1.1.0->jupyterlab-git) (1.12.0)\n",
      "Requirement already satisfied, skipping upgrade: pygments in c:\\users\\ssharm04\\appdata\\local\\continuum\\anaconda3\\lib\\site-packages (from nbdime>=1.1.0->jupyterlab-git) (2.4.2)\n",
      "Collecting GitPython!=2.1.4,!=2.1.5,!=2.1.6 (from nbdime>=1.1.0->jupyterlab-git)\n",
      "  Downloading https://files.pythonhosted.org/packages/ff/f8/05f58bd7852dad7edcf70a8de953b4fa39f61cdc13812ae62118be6ffa23/GitPython-3.0.3-py3-none-any.whl (453kB)\n",
      "Requirement already satisfied, skipping upgrade: requests in c:\\users\\ssharm04\\appdata\\local\\continuum\\anaconda3\\lib\\site-packages (from nbdime>=1.1.0->jupyterlab-git) (2.22.0)\n",
      "Requirement already satisfied, skipping upgrade: jsonschema!=2.5.0,>=2.4 in c:\\users\\ssharm04\\appdata\\local\\continuum\\anaconda3\\lib\\site-packages (from nbformat->notebook->jupyterlab-git) (3.0.1)\n",
      "Requirement already satisfied, skipping upgrade: python-dateutil>=2.1 in c:\\users\\ssharm04\\appdata\\local\\continuum\\anaconda3\\lib\\site-packages (from jupyter-client>=5.3.1->notebook->jupyterlab-git) (2.8.0)\n",
      "Requirement already satisfied, skipping upgrade: MarkupSafe>=0.23 in c:\\users\\ssharm04\\appdata\\local\\continuum\\anaconda3\\lib\\site-packages (from jinja2->notebook->jupyterlab-git) (1.1.1)\n",
      "Requirement already satisfied, skipping upgrade: testpath in c:\\users\\ssharm04\\appdata\\local\\continuum\\anaconda3\\lib\\site-packages (from nbconvert->notebook->jupyterlab-git) (0.4.2)\n",
      "Requirement already satisfied, skipping upgrade: defusedxml in c:\\users\\ssharm04\\appdata\\local\\continuum\\anaconda3\\lib\\site-packages (from nbconvert->notebook->jupyterlab-git) (0.6.0)\n",
      "Requirement already satisfied, skipping upgrade: bleach in c:\\users\\ssharm04\\appdata\\local\\continuum\\anaconda3\\lib\\site-packages (from nbconvert->notebook->jupyterlab-git) (3.1.0)\n",
      "Requirement already satisfied, skipping upgrade: mistune>=0.8.1 in c:\\users\\ssharm04\\appdata\\local\\continuum\\anaconda3\\lib\\site-packages (from nbconvert->notebook->jupyterlab-git) (0.8.4)\n",
      "Requirement already satisfied, skipping upgrade: pandocfilters>=1.4.1 in c:\\users\\ssharm04\\appdata\\local\\continuum\\anaconda3\\lib\\site-packages (from nbconvert->notebook->jupyterlab-git) (1.4.2)\n",
      "Requirement already satisfied, skipping upgrade: entrypoints>=0.2.2 in c:\\users\\ssharm04\\appdata\\local\\continuum\\anaconda3\\lib\\site-packages (from nbconvert->notebook->jupyterlab-git) (0.3)\n",
      "Requirement already satisfied, skipping upgrade: decorator in c:\\users\\ssharm04\\appdata\\local\\continuum\\anaconda3\\lib\\site-packages (from traitlets>=4.2.1->notebook->jupyterlab-git) (4.4.0)\n",
      "Requirement already satisfied, skipping upgrade: ipython>=5.0.0 in c:\\users\\ssharm04\\appdata\\local\\continuum\\anaconda3\\lib\\site-packages (from ipykernel->notebook->jupyterlab-git) (7.6.1)\n",
      "Collecting gitdb2>=2.0.0 (from GitPython!=2.1.4,!=2.1.5,!=2.1.6->nbdime>=1.1.0->jupyterlab-git)\n",
      "  Downloading https://files.pythonhosted.org/packages/03/6c/99296f89bad2ef85626e1df9f677acbee8885bb043ad82ad3ed4746d2325/gitdb2-2.0.6-py2.py3-none-any.whl (63kB)\n",
      "Requirement already satisfied, skipping upgrade: idna<2.9,>=2.5 in c:\\users\\ssharm04\\appdata\\local\\continuum\\anaconda3\\lib\\site-packages (from requests->nbdime>=1.1.0->jupyterlab-git) (2.8)\n",
      "Requirement already satisfied, skipping upgrade: certifi>=2017.4.17 in c:\\users\\ssharm04\\appdata\\local\\continuum\\anaconda3\\lib\\site-packages (from requests->nbdime>=1.1.0->jupyterlab-git) (2019.6.16)\n",
      "Requirement already satisfied, skipping upgrade: chardet<3.1.0,>=3.0.2 in c:\\users\\ssharm04\\appdata\\local\\continuum\\anaconda3\\lib\\site-packages (from requests->nbdime>=1.1.0->jupyterlab-git) (3.0.4)\n",
      "Requirement already satisfied, skipping upgrade: urllib3!=1.25.0,!=1.25.1,<1.26,>=1.21.1 in c:\\users\\ssharm04\\appdata\\local\\continuum\\anaconda3\\lib\\site-packages (from requests->nbdime>=1.1.0->jupyterlab-git) (1.24.2)\n",
      "Requirement already satisfied, skipping upgrade: attrs>=17.4.0 in c:\\users\\ssharm04\\appdata\\local\\continuum\\anaconda3\\lib\\site-packages (from jsonschema!=2.5.0,>=2.4->nbformat->notebook->jupyterlab-git) (19.1.0)\n",
      "Requirement already satisfied, skipping upgrade: pyrsistent>=0.14.0 in c:\\users\\ssharm04\\appdata\\local\\continuum\\anaconda3\\lib\\site-packages (from jsonschema!=2.5.0,>=2.4->nbformat->notebook->jupyterlab-git) (0.14.11)\n",
      "Requirement already satisfied, skipping upgrade: setuptools in c:\\users\\ssharm04\\appdata\\local\\continuum\\anaconda3\\lib\\site-packages (from jsonschema!=2.5.0,>=2.4->nbformat->notebook->jupyterlab-git) (41.0.1)\n",
      "Requirement already satisfied, skipping upgrade: webencodings in c:\\users\\ssharm04\\appdata\\local\\continuum\\anaconda3\\lib\\site-packages (from bleach->nbconvert->notebook->jupyterlab-git) (0.5.1)\n",
      "Requirement already satisfied, skipping upgrade: prompt-toolkit<2.1.0,>=2.0.0 in c:\\users\\ssharm04\\appdata\\local\\continuum\\anaconda3\\lib\\site-packages (from ipython>=5.0.0->ipykernel->notebook->jupyterlab-git) (2.0.9)\n",
      "Requirement already satisfied, skipping upgrade: jedi>=0.10 in c:\\users\\ssharm04\\appdata\\local\\continuum\\anaconda3\\lib\\site-packages (from ipython>=5.0.0->ipykernel->notebook->jupyterlab-git) (0.13.3)\n",
      "Requirement already satisfied, skipping upgrade: pickleshare in c:\\users\\ssharm04\\appdata\\local\\continuum\\anaconda3\\lib\\site-packages (from ipython>=5.0.0->ipykernel->notebook->jupyterlab-git) (0.7.5)\n",
      "Requirement already satisfied, skipping upgrade: backcall in c:\\users\\ssharm04\\appdata\\local\\continuum\\anaconda3\\lib\\site-packages (from ipython>=5.0.0->ipykernel->notebook->jupyterlab-git) (0.1.0)\n",
      "Collecting smmap2>=2.0.0 (from gitdb2>=2.0.0->GitPython!=2.1.4,!=2.1.5,!=2.1.6->nbdime>=1.1.0->jupyterlab-git)\n",
      "  Downloading https://files.pythonhosted.org/packages/55/d2/866d45e3a121ee15a1dc013824d58072fd5c7799c9c34d01378eb262ca8f/smmap2-2.0.5-py2.py3-none-any.whl\n",
      "Requirement already satisfied, skipping upgrade: wcwidth in c:\\users\\ssharm04\\appdata\\local\\continuum\\anaconda3\\lib\\site-packages (from prompt-toolkit<2.1.0,>=2.0.0->ipython>=5.0.0->ipykernel->notebook->jupyterlab-git) (0.1.7)\n",
      "Requirement already satisfied, skipping upgrade: parso>=0.3.0 in c:\\users\\ssharm04\\appdata\\local\\continuum\\anaconda3\\lib\\site-packages (from jedi>=0.10->ipython>=5.0.0->ipykernel->notebook->jupyterlab-git) (0.5.0)\n",
      "Installing collected packages: smmap2, gitdb2, GitPython, nbdime, jupyterlab-git\n",
      "Successfully installed GitPython-3.0.3 gitdb2-2.0.6 jupyterlab-git-0.8.1 nbdime-1.1.0 smmap2-2.0.5\n",
      "Note: you may need to restart the kernel to use updated packages.\n"
     ]
    }
   ],
   "source": [
    "## Testing git package for Jupyter\n",
    "pip install --upgrade jupyterlab-git"
   ]
  },
  {
   "cell_type": "code",
   "execution_count": 29,
   "metadata": {},
   "outputs": [
    {
     "ename": "ValueError",
     "evalue": "not enough values to unpack (expected 3, got 2)",
     "output_type": "error",
     "traceback": [
      "\u001b[1;31m---------------------------------------------------------------------------\u001b[0m",
      "\u001b[1;31mValueError\u001b[0m                                Traceback (most recent call last)",
      "\u001b[1;32m<ipython-input-29-93bbb67f987a>\u001b[0m in \u001b[0;36m<module>\u001b[1;34m\u001b[0m\n\u001b[1;32m----> 1\u001b[1;33m \u001b[0ma\u001b[0m\u001b[1;33m,\u001b[0m\u001b[0mb\u001b[0m\u001b[1;33m,\u001b[0m\u001b[0mc\u001b[0m \u001b[1;33m=\u001b[0m \u001b[1;36m1\u001b[0m\u001b[1;33m,\u001b[0m\u001b[1;36m2\u001b[0m\u001b[1;33m\u001b[0m\u001b[1;33m\u001b[0m\u001b[0m\n\u001b[0m",
      "\u001b[1;31mValueError\u001b[0m: not enough values to unpack (expected 3, got 2)"
     ]
    }
   ],
   "source": [
    "a,b,c = 1,2"
   ]
  },
  {
   "cell_type": "code",
   "execution_count": 30,
   "metadata": {},
   "outputs": [],
   "source": [
    "a,b,_ = 1,2,3"
   ]
  },
  {
   "cell_type": "code",
   "execution_count": 31,
   "metadata": {},
   "outputs": [
    {
     "name": "stdout",
     "output_type": "stream",
     "text": [
      "3\n"
     ]
    }
   ],
   "source": [
    "print (_)"
   ]
  },
  {
   "cell_type": "code",
   "execution_count": 33,
   "metadata": {},
   "outputs": [
    {
     "name": "stdout",
     "output_type": "stream",
     "text": [
      "3\n",
      "3\n",
      "3\n",
      "3 3 3\n"
     ]
    }
   ],
   "source": [
    "# Assign same value to multiple variables\n",
    "\n",
    "a=b=c=3\n",
    "\n",
    "print(a)\n",
    "print(b)\n",
    "print(c)\n",
    "print (a,b,c)"
   ]
  },
  {
   "cell_type": "code",
   "execution_count": 36,
   "metadata": {},
   "outputs": [
    {
     "name": "stdout",
     "output_type": "stream",
     "text": [
      "[3, 4, 5] [3, 4, 5]\n",
      "x  [3, 4, 5]\n",
      "y  [7, 8, 9]\n"
     ]
    }
   ],
   "source": [
    "x= y = [3,4,5]\n",
    "print (x,y)\n",
    "y = [7,8,9]\n",
    "print ('x ' , x)\n",
    "print ('y ' , y)\n"
   ]
  },
  {
   "cell_type": "code",
   "execution_count": 40,
   "metadata": {},
   "outputs": [],
   "source": [
    "# Spaces vs Tabs --> 1 Tab means 4 spaces\n",
    "# Tabs are used for proper indentation, one can use either 1 Tab or 4 spaces to get the same result\n",
    "# Spaces are the preferred indentation method."
   ]
  },
  {
   "cell_type": "code",
   "execution_count": 7,
   "metadata": {},
   "outputs": [
    {
     "name": "stdout",
     "output_type": "stream",
     "text": [
      "0\n",
      "1\n",
      "2\n",
      "3\n"
     ]
    }
   ],
   "source": [
    "# True and False, True considered as 1 and False as 0\n",
    "\n",
    "print (False + False)\n",
    "print (True + False )\n",
    "print (True + True  )\n",
    "print (True + True  +True)"
   ]
  },
  {
   "cell_type": "code",
   "execution_count": 6,
   "metadata": {},
   "outputs": [
    {
     "data": {
      "text/plain": [
       "3"
      ]
     },
     "execution_count": 6,
     "metadata": {},
     "output_type": "execute_result"
    }
   ],
   "source": [
    "True + True + True"
   ]
  },
  {
   "cell_type": "code",
   "execution_count": 8,
   "metadata": {},
   "outputs": [],
   "source": [
    "## All Integers\n",
    "a=1\n",
    "b=10000\n",
    "c=100000000000000\n",
    "d=10000000000000000000000000000"
   ]
  },
  {
   "cell_type": "code",
   "execution_count": 9,
   "metadata": {},
   "outputs": [
    {
     "name": "stdout",
     "output_type": "stream",
     "text": [
      "1 10000 100000000000000 10000000000000000000000000000\n"
     ]
    }
   ],
   "source": [
    "print (a,b,c,d)"
   ]
  },
  {
   "cell_type": "code",
   "execution_count": 13,
   "metadata": {},
   "outputs": [
    {
     "name": "stdout",
     "output_type": "stream",
     "text": [
      "2.09 30.9 4.3423e-17\n",
      "<class 'float'> <class 'float'> <class 'float'>\n"
     ]
    }
   ],
   "source": [
    "# Float \n",
    "a= 2.09\n",
    "b= 3.09e1\n",
    "c= 43.423e-18\n",
    "\n",
    "print(a,b,c)\n",
    "print (type(a), type(b), type(c))"
   ]
  },
  {
   "cell_type": "code",
   "execution_count": 14,
   "metadata": {},
   "outputs": [
    {
     "name": "stdout",
     "output_type": "stream",
     "text": [
      "(3+1j) (7+8j)\n",
      "<class 'complex'> <class 'complex'>\n"
     ]
    }
   ],
   "source": [
    "# Complex Number\n",
    "\n",
    "a= 3+1j\n",
    "b= 7+ 8j\n",
    "\n",
    "print(a,b)\n",
    "print (type(a), type(b))"
   ]
  },
  {
   "cell_type": "code",
   "execution_count": 20,
   "metadata": {},
   "outputs": [
    {
     "name": "stdout",
     "output_type": "stream",
     "text": [
      "a <class 'str'>\n",
      "b <class 'str'>\n",
      "Shobhit <class 'str'>\n",
      "Shobhit Shamra <class 'str'>\n"
     ]
    }
   ],
   "source": [
    "# Charaters or Class String\n",
    "\n",
    "c = 'a'\n",
    "d = 'b'\n",
    "e = 'Shobhit'\n",
    "f = 'Shobhit Shamra'\n",
    "\n",
    "\n",
    "print (c,type(c))\n",
    "print(d,type(d))\n",
    "print(e,type(e))\n",
    "print(f,type(f))"
   ]
  },
  {
   "cell_type": "code",
   "execution_count": 27,
   "metadata": {},
   "outputs": [
    {
     "name": "stdout",
     "output_type": "stream",
     "text": [
      "<class 'bool'>\n",
      "<class 'bool'>\n",
      "<class 'NoneType'>\n"
     ]
    }
   ],
   "source": [
    "# Type of True,False and None \n",
    "\n",
    "print (type(True))\n",
    "print (type(False))\n",
    "print (type(None))\n",
    "\n",
    "\n",
    "# Note that None is of Type \"NoneType\" Datatype"
   ]
  },
  {
   "cell_type": "code",
   "execution_count": 11,
   "metadata": {},
   "outputs": [
    {
     "name": "stdout",
     "output_type": "stream",
     "text": [
      "Enter value for i :3\n",
      "int\n"
     ]
    }
   ],
   "source": [
    "# isinstance to check data type of an Item\n",
    "\n",
    "i= int(input('Enter value for i :'))\n",
    "if isinstance (i, int):\n",
    "    print ('int')\n",
    "elif isinstance (i, str):\n",
    "    print ('str')\n",
    "    "
   ]
  },
  {
   "cell_type": "code",
   "execution_count": 12,
   "metadata": {},
   "outputs": [
    {
     "name": "stdout",
     "output_type": "stream",
     "text": [
      "1 <class 'int'> 1 1.0\n",
      "1.43 <class 'float'> 1 1.43\n",
      "12 <class 'str'> 12 12.0\n"
     ]
    }
   ],
   "source": [
    "# Data Type Conversion\n",
    "\n",
    "a= 1\n",
    "b= 1.43\n",
    "c='c'\n",
    "d='dog'\n",
    "e= '12'\n",
    "\n",
    "print( a,type(a), str(a), float(a))\n",
    "print( b,type(b), int(b), str(b))\n",
    "#print( c,type(c), int(c))\n",
    "#print( d,type(d), int(d))\n",
    "print (e,type(e), int(e),float(e))"
   ]
  },
  {
   "cell_type": "code",
   "execution_count": 30,
   "metadata": {},
   "outputs": [
    {
     "name": "stdout",
     "output_type": "stream",
     "text": [
      "List --> ['h', 'e', 'l', 'l', 'o']\n",
      "Tuple --> ('h', 'e', 'l', 'l', 'o')\n",
      "Set --> {'o', 'h', 'e', 'l'}\n"
     ]
    }
   ],
   "source": [
    "# Data type conversion for Collection Types\n",
    "\n",
    "a='hello'\n",
    "\n",
    "print('List -->' , list(a))\n",
    "print('Tuple -->' , tuple(a))\n",
    "print('Set -->' , set(a))"
   ]
  },
  {
   "cell_type": "code",
   "execution_count": 6,
   "metadata": {},
   "outputs": [
    {
     "data": {
      "text/plain": [
       "'5+5'"
      ]
     },
     "execution_count": 6,
     "metadata": {},
     "output_type": "execute_result"
    }
   ],
   "source": [
    "'5+5'"
   ]
  },
  {
   "cell_type": "markdown",
   "metadata": {},
   "source": [
    "## Difference Between Comma (,) and Concatenation (+) Operator\n",
    "\n",
    "#### (+) is similar to mathemetics Add means it can add int and float but not int to String , \n",
    "#### (,) Comma can be used irrespective of Data Type. It Adds an additional Space between 2 or more objects\n"
   ]
  },
  {
   "cell_type": "code",
   "execution_count": 43,
   "metadata": {},
   "outputs": [
    {
     "name": "stdout",
     "output_type": "stream",
     "text": [
      "4\n",
      "DataAnalytics\n",
      "5.43\n"
     ]
    }
   ],
   "source": [
    "## Examples of (+)\n",
    "\n",
    "print(2+2)\n",
    "print('Data' + 'Analytics')\n",
    "print (1.43 + 4)\n"
   ]
  },
  {
   "cell_type": "code",
   "execution_count": 44,
   "metadata": {},
   "outputs": [
    {
     "name": "stdout",
     "output_type": "stream",
     "text": [
      "2 2\n",
      "Data Analytics\n",
      "1.43 4\n",
      "Help 123\n"
     ]
    }
   ],
   "source": [
    "# Examples of Comma (,), it inserts an additional Space\n",
    "\n",
    "print(2 , 2)\n",
    "print('Data' , 'Analytics')\n",
    "print (1.43 , 4)\n",
    "\n",
    "print ('Help' , 123) # + is not possible here"
   ]
  },
  {
   "cell_type": "code",
   "execution_count": 46,
   "metadata": {},
   "outputs": [
    {
     "name": "stdout",
     "output_type": "stream",
     "text": [
      "55\n",
      "5 5\n",
      "Hello Shobhit\n",
      "HelloShobhit\n"
     ]
    }
   ],
   "source": [
    "print('5'+'5')\n",
    "print('5','5')\n",
    "\n",
    "print('Hello' , 'Shobhit')\n",
    "print ('Hello' + 'Shobhit')"
   ]
  },
  {
   "cell_type": "code",
   "execution_count": 8,
   "metadata": {},
   "outputs": [
    {
     "data": {
      "text/plain": [
       "10"
      ]
     },
     "execution_count": 8,
     "metadata": {},
     "output_type": "execute_result"
    }
   ],
   "source": [
    "5+5"
   ]
  },
  {
   "cell_type": "code",
   "execution_count": 10,
   "metadata": {},
   "outputs": [
    {
     "data": {
      "text/plain": [
       "10"
      ]
     },
     "execution_count": 10,
     "metadata": {},
     "output_type": "execute_result"
    }
   ],
   "source": [
    "int('5')+ 5"
   ]
  },
  {
   "cell_type": "code",
   "execution_count": 11,
   "metadata": {},
   "outputs": [
    {
     "data": {
      "text/plain": [
       "10"
      ]
     },
     "execution_count": 11,
     "metadata": {},
     "output_type": "execute_result"
    }
   ],
   "source": [
    "5+ int('5')"
   ]
  },
  {
   "cell_type": "code",
   "execution_count": 13,
   "metadata": {},
   "outputs": [],
   "source": [
    "x=5"
   ]
  },
  {
   "cell_type": "code",
   "execution_count": 14,
   "metadata": {},
   "outputs": [
    {
     "data": {
      "text/plain": [
       "5"
      ]
     },
     "execution_count": 14,
     "metadata": {},
     "output_type": "execute_result"
    }
   ],
   "source": [
    "x"
   ]
  },
  {
   "cell_type": "code",
   "execution_count": 16,
   "metadata": {},
   "outputs": [
    {
     "data": {
      "text/plain": [
       "'My Age is 5'"
      ]
     },
     "execution_count": 16,
     "metadata": {},
     "output_type": "execute_result"
    }
   ],
   "source": [
    "'My Age is ' + str(x)"
   ]
  },
  {
   "cell_type": "code",
   "execution_count": 17,
   "metadata": {},
   "outputs": [
    {
     "data": {
      "text/plain": [
       "'5'"
      ]
     },
     "execution_count": 17,
     "metadata": {},
     "output_type": "execute_result"
    }
   ],
   "source": [
    "x='5'\n",
    "x"
   ]
  },
  {
   "cell_type": "code",
   "execution_count": 18,
   "metadata": {},
   "outputs": [],
   "source": [
    "x=10\n",
    "y=10"
   ]
  },
  {
   "cell_type": "code",
   "execution_count": 19,
   "metadata": {},
   "outputs": [
    {
     "data": {
      "text/plain": [
       "20"
      ]
     },
     "execution_count": 19,
     "metadata": {},
     "output_type": "execute_result"
    }
   ],
   "source": [
    "x+y"
   ]
  },
  {
   "cell_type": "code",
   "execution_count": 20,
   "metadata": {},
   "outputs": [
    {
     "data": {
      "text/plain": [
       "20"
      ]
     },
     "execution_count": 20,
     "metadata": {},
     "output_type": "execute_result"
    }
   ],
   "source": [
    "x+10"
   ]
  },
  {
   "cell_type": "code",
   "execution_count": 21,
   "metadata": {},
   "outputs": [
    {
     "data": {
      "text/plain": [
       "'My age is x'"
      ]
     },
     "execution_count": 21,
     "metadata": {},
     "output_type": "execute_result"
    }
   ],
   "source": [
    "'My age is x'"
   ]
  },
  {
   "cell_type": "code",
   "execution_count": 24,
   "metadata": {},
   "outputs": [
    {
     "data": {
      "text/plain": [
       "'My Age is 10'"
      ]
     },
     "execution_count": 24,
     "metadata": {},
     "output_type": "execute_result"
    }
   ],
   "source": [
    "'My Age is ' + str(x)"
   ]
  },
  {
   "cell_type": "markdown",
   "metadata": {},
   "source": [
    "# Print Function "
   ]
  },
  {
   "cell_type": "code",
   "execution_count": 28,
   "metadata": {},
   "outputs": [
    {
     "name": "stdout",
     "output_type": "stream",
     "text": [
      "Hello World!!\n"
     ]
    }
   ],
   "source": [
    "print ('Hello World!!')"
   ]
  },
  {
   "cell_type": "code",
   "execution_count": 29,
   "metadata": {},
   "outputs": [
    {
     "name": "stdout",
     "output_type": "stream",
     "text": [
      "My Age is 10\n"
     ]
    }
   ],
   "source": [
    "print ('My Age is ' + str(x))"
   ]
  },
  {
   "cell_type": "code",
   "execution_count": 30,
   "metadata": {},
   "outputs": [
    {
     "name": "stdout",
     "output_type": "stream",
     "text": [
      "5\n"
     ]
    }
   ],
   "source": [
    "print ('5')"
   ]
  },
  {
   "cell_type": "code",
   "execution_count": 31,
   "metadata": {},
   "outputs": [
    {
     "data": {
      "text/plain": [
       "'5'"
      ]
     },
     "execution_count": 31,
     "metadata": {},
     "output_type": "execute_result"
    }
   ],
   "source": [
    "'5'"
   ]
  },
  {
   "cell_type": "code",
   "execution_count": 32,
   "metadata": {},
   "outputs": [
    {
     "name": "stdout",
     "output_type": "stream",
     "text": [
      "Hello , World !!!!\n"
     ]
    },
    {
     "data": {
      "text/plain": [
       "'Hello , World !!'"
      ]
     },
     "execution_count": 32,
     "metadata": {},
     "output_type": "execute_result"
    }
   ],
   "source": [
    "print ('Hello , World !!!!')\n",
    "'Hello , World !!'"
   ]
  },
  {
   "cell_type": "code",
   "execution_count": 33,
   "metadata": {},
   "outputs": [
    {
     "data": {
      "text/plain": [
       "10"
      ]
     },
     "execution_count": 33,
     "metadata": {},
     "output_type": "execute_result"
    }
   ],
   "source": [
    "x"
   ]
  },
  {
   "cell_type": "code",
   "execution_count": 34,
   "metadata": {},
   "outputs": [
    {
     "data": {
      "text/plain": [
       "'How are you doing , aged 10'"
      ]
     },
     "execution_count": 34,
     "metadata": {},
     "output_type": "execute_result"
    }
   ],
   "source": [
    "'How are you doing , aged ' + str(x)"
   ]
  },
  {
   "cell_type": "markdown",
   "metadata": {},
   "source": [
    "# Format Methods"
   ]
  },
  {
   "cell_type": "code",
   "execution_count": 35,
   "metadata": {},
   "outputs": [
    {
     "data": {
      "text/plain": [
       "'I am 5 Years Old'"
      ]
     },
     "execution_count": 35,
     "metadata": {},
     "output_type": "execute_result"
    }
   ],
   "source": [
    "\"I am 5 Years Old\""
   ]
  },
  {
   "cell_type": "code",
   "execution_count": 36,
   "metadata": {},
   "outputs": [
    {
     "data": {
      "text/plain": [
       "'I am 5 Years Old'"
      ]
     },
     "execution_count": 36,
     "metadata": {},
     "output_type": "execute_result"
    }
   ],
   "source": [
    "age =5\n",
    "'I am ' + str(age) + ' Years Old'"
   ]
  },
  {
   "cell_type": "code",
   "execution_count": 37,
   "metadata": {},
   "outputs": [
    {
     "data": {
      "text/plain": [
       "'I am 5 Years Old'"
      ]
     },
     "execution_count": 37,
     "metadata": {},
     "output_type": "execute_result"
    }
   ],
   "source": [
    "'I am {} Years Old'.format(age)"
   ]
  },
  {
   "cell_type": "code",
   "execution_count": 38,
   "metadata": {},
   "outputs": [
    {
     "data": {
      "text/plain": [
       "'I am 5 Years and 6 Months Old.'"
      ]
     },
     "execution_count": 38,
     "metadata": {},
     "output_type": "execute_result"
    }
   ],
   "source": [
    "'I am {} Years and {} Months Old.'.format (age,6)"
   ]
  },
  {
   "cell_type": "code",
   "execution_count": 39,
   "metadata": {},
   "outputs": [
    {
     "data": {
      "text/plain": [
       "'I am 5 years old.'"
      ]
     },
     "execution_count": 39,
     "metadata": {},
     "output_type": "execute_result"
    }
   ],
   "source": [
    "'I am {y} years old.'.format(y=age)"
   ]
  },
  {
   "cell_type": "code",
   "execution_count": 40,
   "metadata": {},
   "outputs": [
    {
     "data": {
      "text/plain": [
       "'I am 10 years old.'"
      ]
     },
     "execution_count": 40,
     "metadata": {},
     "output_type": "execute_result"
    }
   ],
   "source": [
    "'I am {y} years old.'.format(y=10)"
   ]
  },
  {
   "cell_type": "code",
   "execution_count": 44,
   "metadata": {},
   "outputs": [
    {
     "data": {
      "text/plain": [
       "'My Initial name is Amit, and surname is Sharma'"
      ]
     },
     "execution_count": 44,
     "metadata": {},
     "output_type": "execute_result"
    }
   ],
   "source": [
    "'My Initial name is {}, and Surname is {}'.format('Amit','Sharma')"
   ]
  },
  {
   "cell_type": "code",
   "execution_count": 46,
   "metadata": {},
   "outputs": [
    {
     "name": "stdout",
     "output_type": "stream",
     "text": [
      "Are you Amit from Delhi ?\n"
     ]
    }
   ],
   "source": [
    "print ('Are you {} from Delhi ?'.format('Amit') )"
   ]
  },
  {
   "cell_type": "code",
   "execution_count": 4,
   "metadata": {},
   "outputs": [],
   "source": [
    "Var_ai = 'Machine Learning'"
   ]
  },
  {
   "cell_type": "code",
   "execution_count": 5,
   "metadata": {},
   "outputs": [
    {
     "name": "stdout",
     "output_type": "stream",
     "text": [
      "Now a days Machine Learning is talk of the town \n"
     ]
    }
   ],
   "source": [
    "print ('Now a days ' + str(Var_ai) + ' is talk of the town ')"
   ]
  },
  {
   "cell_type": "code",
   "execution_count": 6,
   "metadata": {},
   "outputs": [
    {
     "name": "stdout",
     "output_type": "stream",
     "text": [
      "Now a days Machine Learning is talk of the town \n"
     ]
    }
   ],
   "source": [
    "print ('Now a days ' + Var_ai + ' is talk of the town ')"
   ]
  },
  {
   "cell_type": "code",
   "execution_count": 7,
   "metadata": {},
   "outputs": [
    {
     "name": "stdout",
     "output_type": "stream",
     "text": [
      "Now a days  Machine Learning  is talk of the town \n"
     ]
    }
   ],
   "source": [
    "print ('Now a days ' , Var_ai , ' is talk of the town ')"
   ]
  },
  {
   "cell_type": "code",
   "execution_count": 9,
   "metadata": {},
   "outputs": [],
   "source": [
    "Marks = 89.15"
   ]
  },
  {
   "cell_type": "code",
   "execution_count": 10,
   "metadata": {},
   "outputs": [
    {
     "name": "stdout",
     "output_type": "stream",
     "text": [
      "I Got in Total 89.15 Marks \n"
     ]
    }
   ],
   "source": [
    "print ('I Got in Total {} Marks '.format(Marks))"
   ]
  },
  {
   "cell_type": "code",
   "execution_count": 15,
   "metadata": {},
   "outputs": [
    {
     "ename": "SyntaxError",
     "evalue": "invalid syntax (<ipython-input-15-c4c5452fcd59>, line 1)",
     "output_type": "error",
     "traceback": [
      "\u001b[1;36m  File \u001b[1;32m\"<ipython-input-15-c4c5452fcd59>\"\u001b[1;36m, line \u001b[1;32m1\u001b[0m\n\u001b[1;33m    print ('I Got in Total {} Marks '.format(Marks), %'f')\u001b[0m\n\u001b[1;37m                                                     ^\u001b[0m\n\u001b[1;31mSyntaxError\u001b[0m\u001b[1;31m:\u001b[0m invalid syntax\n"
     ]
    }
   ],
   "source": [
    "print ('I Got in Total {} Marks '.format(Marks), %'f')"
   ]
  },
  {
   "cell_type": "code",
   "execution_count": 16,
   "metadata": {},
   "outputs": [
    {
     "name": "stdout",
     "output_type": "stream",
     "text": [
      "Every programmer should know the use of Open Source programming and Operating Systems\n"
     ]
    }
   ],
   "source": [
    "print(\"Every {} should know the use of {} {} programming and {}\"\n",
    "    .format(\"programmer\", \"Open\", \"Source\", \"Operating Systems\")) "
   ]
  },
  {
   "cell_type": "code",
   "execution_count": 18,
   "metadata": {},
   "outputs": [
    {
     "name": "stdout",
     "output_type": "stream",
     "text": [
      "Every Operating Systems should know the use of Source Open programming and programmer\n"
     ]
    }
   ],
   "source": [
    "## Indexing while formatting\n",
    "\n",
    "print(\"Every {3} should know the use of {2} {1} programming and {0}\"\n",
    "        .format(\"programmer\", \"Open\", \"Source\", \"Operating Systems\")) "
   ]
  },
  {
   "cell_type": "code",
   "execution_count": 19,
   "metadata": {},
   "outputs": [
    {
     "name": "stdout",
     "output_type": "stream",
     "text": [
      "Rounding of 132.2323 is 132.23\n"
     ]
    }
   ],
   "source": [
    "print ('Rounding of {} is {:.2f}'.format('132.2323',132.2323 ))"
   ]
  },
  {
   "cell_type": "code",
   "execution_count": 32,
   "metadata": {},
   "outputs": [
    {
     "name": "stdout",
     "output_type": "stream",
     "text": [
      "More Precise value is 234.43\n"
     ]
    }
   ],
   "source": [
    "dec_number = 234.432324324\n",
    "print ('More Precise value is {:.2f}'.format(dec_number))\n"
   ]
  },
  {
   "cell_type": "code",
   "execution_count": 33,
   "metadata": {},
   "outputs": [
    {
     "ename": "ValueError",
     "evalue": "Unknown format code 'd' for object of type 'float'",
     "output_type": "error",
     "traceback": [
      "\u001b[1;31m---------------------------------------------------------------------------\u001b[0m",
      "\u001b[1;31mValueError\u001b[0m                                Traceback (most recent call last)",
      "\u001b[1;32m<ipython-input-33-dc6250f51361>\u001b[0m in \u001b[0;36m<module>\u001b[1;34m\u001b[0m\n\u001b[1;32m----> 1\u001b[1;33m \u001b[0mprint\u001b[0m \u001b[1;33m(\u001b[0m\u001b[1;34m'integer  value is {:d}'\u001b[0m\u001b[1;33m.\u001b[0m\u001b[0mformat\u001b[0m\u001b[1;33m(\u001b[0m\u001b[0mdec_number\u001b[0m\u001b[1;33m)\u001b[0m\u001b[1;33m)\u001b[0m\u001b[1;33m\u001b[0m\u001b[1;33m\u001b[0m\u001b[0m\n\u001b[0m",
      "\u001b[1;31mValueError\u001b[0m: Unknown format code 'd' for object of type 'float'"
     ]
    }
   ],
   "source": [
    "# It is goving error due to version, Update teh Latest Verison\n",
    "print ('integer  value is {:d}'.format(dec_number))"
   ]
  },
  {
   "cell_type": "code",
   "execution_count": 39,
   "metadata": {},
   "outputs": [
    {
     "name": "stdout",
     "output_type": "stream",
     "text": [
      "Binary value is 1100100\n",
      "Octal value is 144\n",
      "Character value is d\n",
      "Exponential value is 1.000000e+02\n"
     ]
    }
   ],
   "source": [
    "int_number = 100\n",
    "print ('Binary value is {:b}'.format(int_number))\n",
    "print ('Octal value is {:o}'.format(int_number))\n",
    "print ('Character value is {:c}'.format(int_number))\n",
    "print ('Exponential value is {:e}'.format(int_number))"
   ]
  },
  {
   "cell_type": "markdown",
   "metadata": {},
   "source": [
    "## Padding Space using Format like RPAD /LPAD "
   ]
  },
  {
   "cell_type": "code",
   "execution_count": 47,
   "metadata": {},
   "outputs": [
    {
     "name": "stdout",
     "output_type": "stream",
     "text": [
      "I am Sharma , and Wishing you a very Happy Diwali   !\n"
     ]
    }
   ],
   "source": [
    "Var1 ='Sharma'\n",
    "Var2 ='Happy Diwali'\n",
    "print(\"I am {0:} , and Wishing you a very {1:15}!\"\n",
    "                        .format(Var1,Var2)) "
   ]
  },
  {
   "cell_type": "code",
   "execution_count": null,
   "metadata": {},
   "outputs": [],
   "source": [
    "Var1 ='Sharma'\n",
    "Var2 ='Happy Diwali'\n",
    "print(\"I am {0:} , and Wishing you a very {1:15}!\"\n",
    "                        .format(Var1,Var2)) "
   ]
  },
  {
   "cell_type": "code",
   "execution_count": 51,
   "metadata": {},
   "outputs": [
    {
     "name": "stdout",
     "output_type": "stream",
     "text": [
      "I am Sharma     , and Wishing you a very Happy Diwali   !\n"
     ]
    }
   ],
   "source": [
    "# Space padded with {0:10}-- 10 Spaces added\n",
    "\n",
    "print(\"I am {0:10} , and Wishing you a very {1:15}!\"\n",
    "                        .format(Var1,Var2)) "
   ]
  },
  {
   "cell_type": "code",
   "execution_count": 55,
   "metadata": {},
   "outputs": [
    {
     "name": "stdout",
     "output_type": "stream",
     "text": [
      "I am   Sharma   , and Wishing you a very     Happy Diwali    !\n",
      "I am Sharma     , and Wishing you a very Happy Diwali        !\n",
      "I am     Sharma , and Wishing you a very         Happy Diwali!\n"
     ]
    }
   ],
   "source": [
    "## Middle carrot to indent text in Middle < is for Left and > for Right\n",
    "\n",
    "\n",
    "print(\"I am {0:^10} , and Wishing you a very {1:^20}!\".format(Var1,Var2)) \n",
    "\n",
    "print(\"I am {0:<10} , and Wishing you a very {1:<20}!\".format(Var1,Var2)) \n",
    "\n",
    "print(\"I am {0:>10} , and Wishing you a very {1:>20}!\".format(Var1,Var2)) "
   ]
  },
  {
   "cell_type": "code",
   "execution_count": 60,
   "metadata": {},
   "outputs": [
    {
     "name": "stdout",
     "output_type": "stream",
     "text": [
      "I am *******Sharma******* , and Wishing you a very !!!!Happy Diwali!!!!!\n",
      "I am **************Sharma , and Wishing you a very Happy Diwali!!!!!!!!!\n",
      "I am Sharma************** , and Wishing you a very !!!!!!!!Happy Diwali!\n"
     ]
    }
   ],
   "source": [
    "# Padding * or any other special Character\n",
    "\n",
    "print(\"I am {0:*^20s} , and Wishing you a very {1:!^20}!\".format(Var1,Var2)) \n",
    "print(\"I am {0:*>20s} , and Wishing you a very {1:!<20}!\".format(Var1,Var2)) \n",
    "print(\"I am {0:*<20s} , and Wishing you a very {1:!>20}!\".format(Var1,Var2)) "
   ]
  },
  {
   "cell_type": "code",
   "execution_count": 64,
   "metadata": {},
   "outputs": [
    {
     "name": "stdout",
     "output_type": "stream",
     "text": [
      "Wishing You a Very #########Happy Diwali#########.\n",
      "Wishing You a Very ##################Happy Diwali.\n",
      "Wishing You a Very Happy Diwali##################.\n"
     ]
    }
   ],
   "source": [
    "print ('Wishing You a Very {0:#^30s}.'.format('Happy Diwali'))\n",
    "print ('Wishing You a Very {0:#>30s}.'.format('Happy Diwali'))\n",
    "print ('Wishing You a Very {0:#<30s}.'.format('Happy Diwali'))"
   ]
  },
  {
   "cell_type": "code",
   "execution_count": 66,
   "metadata": {},
   "outputs": [
    {
     "name": "stdout",
     "output_type": "stream",
     "text": [
      "Wishing You a Very          Happy Diwali         .\n",
      "Wishing You a Very                   Happy Diwali.\n",
      "Wishing You a Very Happy Diwali                  .\n"
     ]
    }
   ],
   "source": [
    "# Padded Space {0: 30s}\n",
    "\n",
    "print ('Wishing You a Very {0: ^30s}.'.format('Happy Diwali'))\n",
    "print ('Wishing You a Very {0: >30s}.'.format('Happy Diwali'))\n",
    "print ('Wishing You a Very {0: <30s}.'.format('Happy Diwali'))"
   ]
  },
  {
   "cell_type": "markdown",
   "metadata": {},
   "source": [
    "# Input Method"
   ]
  },
  {
   "cell_type": "code",
   "execution_count": 67,
   "metadata": {},
   "outputs": [
    {
     "name": "stdout",
     "output_type": "stream",
     "text": [
      "Enter Your Age: 34\n"
     ]
    },
    {
     "data": {
      "text/plain": [
       "'34'"
      ]
     },
     "execution_count": 67,
     "metadata": {},
     "output_type": "execute_result"
    }
   ],
   "source": [
    "input('Enter Your Age: ')"
   ]
  },
  {
   "cell_type": "code",
   "execution_count": 68,
   "metadata": {},
   "outputs": [
    {
     "name": "stdout",
     "output_type": "stream",
     "text": [
      "Enter Your age: 23\n",
      "23\n"
     ]
    }
   ],
   "source": [
    "print(input('Enter Your age: '))"
   ]
  },
  {
   "cell_type": "code",
   "execution_count": 69,
   "metadata": {},
   "outputs": [
    {
     "name": "stdout",
     "output_type": "stream",
     "text": [
      "Enter the age: 34\n"
     ]
    },
    {
     "data": {
      "text/plain": [
       "34"
      ]
     },
     "execution_count": 69,
     "metadata": {},
     "output_type": "execute_result"
    }
   ],
   "source": [
    "User_age = input('Enter the age: ')\n",
    "User_age\n",
    "int(User_age)"
   ]
  },
  {
   "cell_type": "code",
   "execution_count": 70,
   "metadata": {},
   "outputs": [
    {
     "name": "stdout",
     "output_type": "stream",
     "text": [
      "Enter the age: 34\n",
      "34\n"
     ]
    }
   ],
   "source": [
    "User_age = input('Enter the age: ')\n",
    "print(User_age)"
   ]
  },
  {
   "cell_type": "code",
   "execution_count": 71,
   "metadata": {},
   "outputs": [
    {
     "name": "stdout",
     "output_type": "stream",
     "text": [
      "My Age is :34\n",
      "34\n"
     ]
    }
   ],
   "source": [
    "print(input('My Age is :'))"
   ]
  },
  {
   "cell_type": "code",
   "execution_count": 73,
   "metadata": {},
   "outputs": [
    {
     "name": "stdout",
     "output_type": "stream",
     "text": [
      "Enter the Age of User :33\n",
      "289080\n"
     ]
    }
   ],
   "source": [
    "user_sec = input('Enter the Age of User :')\n",
    "print (int(user_sec) * 365 * 24) "
   ]
  },
  {
   "cell_type": "code",
   "execution_count": 74,
   "metadata": {},
   "outputs": [
    {
     "name": "stdout",
     "output_type": "stream",
     "text": [
      "days Lived\n",
      "289080\n"
     ]
    },
    {
     "data": {
      "text/plain": [
       "(None, None)"
      ]
     },
     "execution_count": 74,
     "metadata": {},
     "output_type": "execute_result"
    }
   ],
   "source": [
    "print ('days Lived') , print (int(user_sec) * 365 * 24)"
   ]
  },
  {
   "cell_type": "code",
   "execution_count": 73,
   "metadata": {},
   "outputs": [
    {
     "name": "stdout",
     "output_type": "stream",
     "text": [
      "Seconds Lived as : 977616000\n"
     ]
    }
   ],
   "source": [
    "print ('Seconds Lived as :' , (int(user_sec) * 365 * 24 * 60 * 60))"
   ]
  },
  {
   "cell_type": "code",
   "execution_count": 74,
   "metadata": {},
   "outputs": [],
   "source": [
    "Seconds = int(user_sec) * 365 * 24 * 60 * 60"
   ]
  },
  {
   "cell_type": "code",
   "execution_count": 75,
   "metadata": {},
   "outputs": [
    {
     "data": {
      "text/plain": [
       "977616000"
      ]
     },
     "execution_count": 75,
     "metadata": {},
     "output_type": "execute_result"
    }
   ],
   "source": [
    "Seconds"
   ]
  },
  {
   "cell_type": "code",
   "execution_count": 76,
   "metadata": {},
   "outputs": [
    {
     "name": "stdout",
     "output_type": "stream",
     "text": [
      "You have lived for 977616000 Seconds.\n"
     ]
    }
   ],
   "source": [
    "print ('You have lived for {} Seconds.'.format(Seconds))"
   ]
  },
  {
   "cell_type": "code",
   "execution_count": 75,
   "metadata": {},
   "outputs": [
    {
     "name": "stdout",
     "output_type": "stream",
     "text": [
      "Please input Today's Temprature in C: 36\n",
      "Temprature in Celsius is 36 and in Farenhite is 96.8 \n"
     ]
    }
   ],
   "source": [
    "Temp = input('Please input Today\\'s Temprature in C: ')\n",
    "Farenhite = (int(Temp) * 9/5) +  32\n",
    "print('Temprature in Celsius is {} and in Farenhite is {} '.format (Temp,Farenhite))"
   ]
  },
  {
   "cell_type": "markdown",
   "metadata": {},
   "source": [
    "# Define Method . Automating Inputs"
   ]
  },
  {
   "cell_type": "code",
   "execution_count": 76,
   "metadata": {},
   "outputs": [],
   "source": [
    "def age_in_sec():\n",
    "    user_age = input('Enter your Age:')\n",
    "    seconds = int(user_age) * 365 * 24 * 60 *60 \n",
    "    print ('You have lived for {} Seconds.'.format(seconds))"
   ]
  },
  {
   "cell_type": "code",
   "execution_count": 77,
   "metadata": {},
   "outputs": [
    {
     "name": "stdout",
     "output_type": "stream",
     "text": [
      "Enter your Age:33\n",
      "You have lived for 1040688000 Seconds.\n"
     ]
    }
   ],
   "source": [
    "age_in_sec()"
   ]
  },
  {
   "cell_type": "code",
   "execution_count": 78,
   "metadata": {},
   "outputs": [],
   "source": [
    "def temp_conv():\n",
    "    celsius_temp = input ('Enter Temprature in Celsius :')\n",
    "    farenhite_temp = int(celsius_temp) * 9/5 + 32\n",
    "    print ('Temprature Entered in Celsius as {}, and Calcualted farenhite Value is {} .'.format(celsius_temp,farenhite_temp))"
   ]
  },
  {
   "cell_type": "code",
   "execution_count": 79,
   "metadata": {},
   "outputs": [
    {
     "name": "stdout",
     "output_type": "stream",
     "text": [
      "Enter Temprature in Celsius :34\n",
      "Temprature Entered in Celsius as 34, and Calcualted farenhite Value is 93.2 .\n"
     ]
    }
   ],
   "source": [
    "temp_conv()"
   ]
  },
  {
   "cell_type": "code",
   "execution_count": 85,
   "metadata": {},
   "outputs": [],
   "source": [
    "def cal_sqr():\n",
    "    Num1 = input('Choose the number :')\n",
    "    Sqrt = int(Num1)**2\n",
    "    print ('Number Selected as {} and Square of this number is {}.'.format(Num1,Sqrt))"
   ]
  },
  {
   "cell_type": "code",
   "execution_count": 86,
   "metadata": {},
   "outputs": [
    {
     "name": "stdout",
     "output_type": "stream",
     "text": [
      "Choose the number :5\n",
      "Number Selected as 5 and Square of this number is 25.\n"
     ]
    }
   ],
   "source": [
    "cal_sqr()"
   ]
  },
  {
   "cell_type": "code",
   "execution_count": 94,
   "metadata": {},
   "outputs": [
    {
     "name": "stdout",
     "output_type": "stream",
     "text": [
      "Enter Your Name: Shobhit\n",
      "Shobhit\n"
     ]
    }
   ],
   "source": [
    "print (str(input('Enter Your Name: ')))"
   ]
  },
  {
   "cell_type": "code",
   "execution_count": 95,
   "metadata": {},
   "outputs": [
    {
     "name": "stdout",
     "output_type": "stream",
     "text": [
      "Enter Your Name: q2\n",
      "q2\n"
     ]
    }
   ],
   "source": [
    "print ((input('Enter Your Name: ')))"
   ]
  },
  {
   "cell_type": "markdown",
   "metadata": {},
   "source": [
    "### Play with Datetime in Python "
   ]
  },
  {
   "cell_type": "code",
   "execution_count": 96,
   "metadata": {},
   "outputs": [],
   "source": [
    "import datetime"
   ]
  },
  {
   "cell_type": "code",
   "execution_count": 107,
   "metadata": {},
   "outputs": [
    {
     "name": "stdout",
     "output_type": "stream",
     "text": [
      "Current Time is 2019-10-25 13:51:01.719230\n"
     ]
    }
   ],
   "source": [
    "# Current Time\n",
    "\n",
    "dt= datetime.datetime.now()\n",
    "\n",
    "print ('Current Time is {}'.format(dt))"
   ]
  },
  {
   "cell_type": "code",
   "execution_count": 123,
   "metadata": {},
   "outputs": [
    {
     "name": "stdout",
     "output_type": "stream",
     "text": [
      "2019-10-25\n"
     ]
    }
   ],
   "source": [
    "day=datetime.date.today()\n",
    "\n",
    "print(day)"
   ]
  },
  {
   "cell_type": "code",
   "execution_count": 126,
   "metadata": {},
   "outputs": [
    {
     "name": "stdout",
     "output_type": "stream",
     "text": [
      "2019-02-12\n"
     ]
    }
   ],
   "source": [
    "date= datetime.date(2019,2,12)\n",
    "\n",
    "print(date)"
   ]
  },
  {
   "cell_type": "code",
   "execution_count": 129,
   "metadata": {},
   "outputs": [],
   "source": [
    "def create_date():\n",
    "    v_year = int(input('Select Year:'))\n",
    "    v_month = int(input('Select Month:'))\n",
    "    v_date = int(input('Select date:'))\n",
    "    dt= datetime.date(v_year,v_month,v_date)\n",
    "    print ('Date Generated as {}'.format(dt))"
   ]
  },
  {
   "cell_type": "code",
   "execution_count": 130,
   "metadata": {},
   "outputs": [
    {
     "name": "stdout",
     "output_type": "stream",
     "text": [
      "Select Year:2019\n",
      "Select Month:3\n",
      "Select date:12\n",
      "Date Generated as 2019-03-12\n"
     ]
    }
   ],
   "source": [
    "create_date()"
   ]
  },
  {
   "cell_type": "code",
   "execution_count": 135,
   "metadata": {},
   "outputs": [
    {
     "data": {
      "text/plain": [
       "datetime.date(2019, 10, 25)"
      ]
     },
     "execution_count": 135,
     "metadata": {},
     "output_type": "execute_result"
    }
   ],
   "source": [
    "date.today()"
   ]
  },
  {
   "cell_type": "markdown",
   "metadata": {},
   "source": [
    "# if, ELIF, ELSE"
   ]
  },
  {
   "cell_type": "code",
   "execution_count": 1,
   "metadata": {},
   "outputs": [],
   "source": [
    "price= 100"
   ]
  },
  {
   "cell_type": "code",
   "execution_count": 4,
   "metadata": {},
   "outputs": [
    {
     "name": "stdout",
     "output_type": "stream",
     "text": [
      "Don't Buy!\n"
     ]
    }
   ],
   "source": [
    "if price < 100:\n",
    "    print ('Buy the Chair!')\n",
    "else:\n",
    "    print ('Don\\'t Buy!')"
   ]
  },
  {
   "cell_type": "code",
   "execution_count": 3,
   "metadata": {},
   "outputs": [
    {
     "name": "stdout",
     "output_type": "stream",
     "text": [
      "Hi Shobhit\n"
     ]
    }
   ],
   "source": [
    "name = 'Shobhit'\n",
    "if name == 'Shobhit':\n",
    "    print ('Hi' , name)\n",
    "else:\n",
    "    print('Hi Unknown')"
   ]
  },
  {
   "cell_type": "code",
   "execution_count": 19,
   "metadata": {},
   "outputs": [
    {
     "data": {
      "text/plain": [
       "'Shobhit'"
      ]
     },
     "execution_count": 19,
     "metadata": {},
     "output_type": "execute_result"
    }
   ],
   "source": [
    "'Shobhit' if 2>1 else 'Sharma'"
   ]
  },
  {
   "cell_type": "code",
   "execution_count": 20,
   "metadata": {},
   "outputs": [
    {
     "data": {
      "text/plain": [
       "'Right'"
      ]
     },
     "execution_count": 20,
     "metadata": {},
     "output_type": "execute_result"
    }
   ],
   "source": [
    "'Right' if 2>1 else 'worng'"
   ]
  },
  {
   "cell_type": "code",
   "execution_count": 22,
   "metadata": {},
   "outputs": [
    {
     "data": {
      "text/plain": [
       "'worng'"
      ]
     },
     "execution_count": 22,
     "metadata": {},
     "output_type": "execute_result"
    }
   ],
   "source": [
    "'Right' if 1>2 else 'worng'"
   ]
  },
  {
   "cell_type": "code",
   "execution_count": 5,
   "metadata": {},
   "outputs": [
    {
     "name": "stdout",
     "output_type": "stream",
     "text": [
      "Try to Bargain First , then Buy\n"
     ]
    }
   ],
   "source": [
    "if price < 100:\n",
    "    print ('Buy the Chair !!')\n",
    "elif price == 100:\n",
    "    print ('Try to Bargain First , then Buy')\n",
    "else:\n",
    "    print('Don\\'t Buy it.')\n",
    "    "
   ]
  },
  {
   "cell_type": "code",
   "execution_count": 14,
   "metadata": {},
   "outputs": [],
   "source": [
    "def age_program():\n",
    "    Age = input ('Please enter your age :')\n",
    "    Choose = input('Give me Seconds(S) or Days(D) ?')\n",
    "    if Choose == 'S':\n",
    "        Seconds = int(Age) * 365 * 24 * 60 * 60\n",
    "        print ('You have Lived for {} Seconds'.format(Seconds))\n",
    "    elif Choose == 'D':\n",
    "        Days = int (Age) * 365 \n",
    "        print ('You have Lived for {} Days'.format(Days))\n",
    "    else:\n",
    "        print ('You have not selected proper format Value {}'.format(Choose))"
   ]
  },
  {
   "cell_type": "code",
   "execution_count": 15,
   "metadata": {},
   "outputs": [
    {
     "name": "stdout",
     "output_type": "stream",
     "text": [
      "Please enter your age :23\n",
      "Give me Seconds(S) or Days(D) ?s\n",
      "You have not selected proper format Value s\n"
     ]
    }
   ],
   "source": [
    "age_program()"
   ]
  },
  {
   "cell_type": "markdown",
   "metadata": {},
   "source": [
    "age_program()"
   ]
  },
  {
   "cell_type": "code",
   "execution_count": 26,
   "metadata": {},
   "outputs": [],
   "source": [
    "def dist_in_miles():\n",
    "    unit = input('Please Select Unit either Meters(K) or Mile(M)')\n",
    "    dist = int(input('Please Enter Value of Distance in Kilo Meters '))\n",
    "    if unit == 'k' or unit == 'K':\n",
    "        Dist_km = dist * 1000\n",
    "        print('Meters calculated as {}'.format(Dist_km))\n",
    "    elif unit == 'm' or unit == 'M':\n",
    "        Dist_km = dist * 1.6\n",
    "        print('Miles calculated as {:.2f}'.format(Dist_km))\n",
    "    else:\n",
    "        print('Wrong Unit Selected ', unit)      "
   ]
  },
  {
   "cell_type": "code",
   "execution_count": 27,
   "metadata": {},
   "outputs": [
    {
     "name": "stdout",
     "output_type": "stream",
     "text": [
      "Please Select Unit either Meters(K) or Mile(M)k\n",
      "Please Enter Value of Distance in Kilo Meters 60\n",
      "Meters calculated as 60000\n"
     ]
    }
   ],
   "source": [
    "dist_in_miles()"
   ]
  },
  {
   "cell_type": "code",
   "execution_count": null,
   "metadata": {},
   "outputs": [],
   "source": []
  },
  {
   "cell_type": "code",
   "execution_count": 104,
   "metadata": {},
   "outputs": [
    {
     "name": "stdout",
     "output_type": "stream",
     "text": [
      "Please enter your age :20\n",
      "Give me Seconds(S) or Days(D) ?D\n",
      "You have Lived for 7300 Days\n"
     ]
    }
   ],
   "source": [
    "age_program()"
   ]
  },
  {
   "cell_type": "code",
   "execution_count": 105,
   "metadata": {},
   "outputs": [
    {
     "name": "stdout",
     "output_type": "stream",
     "text": [
      "Please enter your age :20\n",
      "Give me Seconds(S) or Days(D) ?M\n",
      "You have not selected proper Value M\n"
     ]
    }
   ],
   "source": [
    "age_program()"
   ]
  },
  {
   "cell_type": "code",
   "execution_count": 29,
   "metadata": {},
   "outputs": [],
   "source": [
    "def test_prog():\n",
    "    magic_num = input('Select a magic_number :')\n",
    "    list_of_num = input ('Select a Number between 0 and 10 :')\n",
    "    if list_of_num == magic_num:\n",
    "        print ('Wow , you have selected correct {}'.format(magic_num))\n",
    "    else:\n",
    "        print ('Please choose again')\n",
    "    "
   ]
  },
  {
   "cell_type": "code",
   "execution_count": 31,
   "metadata": {},
   "outputs": [
    {
     "name": "stdout",
     "output_type": "stream",
     "text": [
      "Select a magic_number :5\n",
      "Select a Number between 0 and 10 :3\n",
      "Please choose again\n"
     ]
    }
   ],
   "source": [
    "test_prog()"
   ]
  },
  {
   "cell_type": "code",
   "execution_count": 109,
   "metadata": {},
   "outputs": [
    {
     "name": "stdout",
     "output_type": "stream",
     "text": [
      "Select a magic_number :5\n",
      "Select a Number between 0 and 10 :4\n",
      "Please choose again\n"
     ]
    }
   ],
   "source": [
    "test_prog()"
   ]
  },
  {
   "cell_type": "code",
   "execution_count": 110,
   "metadata": {},
   "outputs": [
    {
     "name": "stdout",
     "output_type": "stream",
     "text": [
      "Select a magic_number :5\n",
      "Select a Number between 0 and 10 :5\n",
      "Wow , you have selected correct 5\n"
     ]
    }
   ],
   "source": [
    "test_prog()"
   ]
  },
  {
   "cell_type": "code",
   "execution_count": 1,
   "metadata": {},
   "outputs": [
    {
     "name": "stdout",
     "output_type": "stream",
     "text": [
      "True\n"
     ]
    }
   ],
   "source": [
    "print (False == 0)"
   ]
  },
  {
   "cell_type": "code",
   "execution_count": 5,
   "metadata": {},
   "outputs": [
    {
     "name": "stdout",
     "output_type": "stream",
     "text": [
      "1\n"
     ]
    }
   ],
   "source": [
    "# integer value of True is 1 and False is 0 \n",
    "\n",
    "print(int(True))"
   ]
  },
  {
   "cell_type": "code",
   "execution_count": 10,
   "metadata": {},
   "outputs": [
    {
     "name": "stdout",
     "output_type": "stream",
     "text": [
      "True\n"
     ]
    }
   ],
   "source": [
    "# Bool value of 0 is False and everything else is True\n",
    "print(bool(1))"
   ]
  },
  {
   "cell_type": "code",
   "execution_count": 8,
   "metadata": {},
   "outputs": [
    {
     "name": "stdout",
     "output_type": "stream",
     "text": [
      "True\n"
     ]
    }
   ],
   "source": [
    "print(bool(2))"
   ]
  },
  {
   "cell_type": "code",
   "execution_count": 2,
   "metadata": {},
   "outputs": [
    {
     "name": "stdout",
     "output_type": "stream",
     "text": [
      "False\n"
     ]
    }
   ],
   "source": [
    "print (True==0)"
   ]
  },
  {
   "cell_type": "code",
   "execution_count": 9,
   "metadata": {},
   "outputs": [
    {
     "name": "stdout",
     "output_type": "stream",
     "text": [
      "False\n"
     ]
    }
   ],
   "source": [
    "print(bool(0))"
   ]
  },
  {
   "cell_type": "code",
   "execution_count": 117,
   "metadata": {},
   "outputs": [
    {
     "name": "stdout",
     "output_type": "stream",
     "text": [
      "2\n"
     ]
    }
   ],
   "source": [
    "print (True + True + False)"
   ]
  },
  {
   "cell_type": "code",
   "execution_count": 120,
   "metadata": {},
   "outputs": [
    {
     "name": "stdout",
     "output_type": "stream",
     "text": [
      "True\n"
     ]
    }
   ],
   "source": [
    "# Or Operator\n",
    "print (True | False)"
   ]
  },
  {
   "cell_type": "code",
   "execution_count": 11,
   "metadata": {},
   "outputs": [
    {
     "name": "stdout",
     "output_type": "stream",
     "text": [
      "False\n"
     ]
    }
   ],
   "source": [
    "# And Operator\n",
    "print (True & False)"
   ]
  },
  {
   "cell_type": "code",
   "execution_count": 12,
   "metadata": {},
   "outputs": [
    {
     "name": "stdout",
     "output_type": "stream",
     "text": [
      "False\n"
     ]
    }
   ],
   "source": [
    "print (not True)"
   ]
  },
  {
   "cell_type": "code",
   "execution_count": 13,
   "metadata": {},
   "outputs": [
    {
     "name": "stdout",
     "output_type": "stream",
     "text": [
      "True\n"
     ]
    }
   ],
   "source": [
    "print (None != 0)"
   ]
  },
  {
   "cell_type": "code",
   "execution_count": 14,
   "metadata": {},
   "outputs": [
    {
     "name": "stdout",
     "output_type": "stream",
     "text": [
      "False\n"
     ]
    }
   ],
   "source": [
    "print (None==0)"
   ]
  },
  {
   "cell_type": "code",
   "execution_count": 15,
   "metadata": {},
   "outputs": [
    {
     "data": {
      "text/plain": [
       "[1, 2, 3]"
      ]
     },
     "execution_count": 15,
     "metadata": {},
     "output_type": "execute_result"
    }
   ],
   "source": [
    "a=[1,2,3]\n",
    "a"
   ]
  },
  {
   "cell_type": "code",
   "execution_count": 134,
   "metadata": {},
   "outputs": [
    {
     "data": {
      "text/plain": [
       "[1, 2]"
      ]
     },
     "execution_count": 134,
     "metadata": {},
     "output_type": "execute_result"
    }
   ],
   "source": [
    "del a[2]\n",
    "a"
   ]
  },
  {
   "cell_type": "code",
   "execution_count": 18,
   "metadata": {},
   "outputs": [],
   "source": [
    "assert 5 > 3 ,'5 is not smaller than 3'"
   ]
  },
  {
   "cell_type": "code",
   "execution_count": 145,
   "metadata": {},
   "outputs": [
    {
     "name": "stdout",
     "output_type": "stream",
     "text": [
      "False\n"
     ]
    }
   ],
   "source": [
    "print  ('No' '1' in '1ambda')"
   ]
  },
  {
   "cell_type": "code",
   "execution_count": 146,
   "metadata": {},
   "outputs": [
    {
     "name": "stdout",
     "output_type": "stream",
     "text": [
      "Yes\n"
     ]
    }
   ],
   "source": [
    "if 's' in 'shobhit':\n",
    "    print('Yes')\n",
    "else:\n",
    "    print ('No')"
   ]
  },
  {
   "cell_type": "code",
   "execution_count": 150,
   "metadata": {},
   "outputs": [
    {
     "name": "stdout",
     "output_type": "stream",
     "text": [
      "'\n"
     ]
    }
   ],
   "source": [
    "print('\\'')"
   ]
  },
  {
   "cell_type": "code",
   "execution_count": 156,
   "metadata": {},
   "outputs": [
    {
     "name": "stdout",
     "output_type": "stream",
     "text": [
      "True\n"
     ]
    }
   ],
   "source": [
    "print (''is'') "
   ]
  },
  {
   "cell_type": "code",
   "execution_count": 160,
   "metadata": {},
   "outputs": [
    {
     "name": "stdout",
     "output_type": "stream",
     "text": [
      "s , h , o , b , h , i , t ,   , s , h , a , r , m , a , "
     ]
    }
   ],
   "source": [
    "for i in 'shobhit sharma': \n",
    "    print (i,end=\" , \")"
   ]
  },
  {
   "cell_type": "markdown",
   "metadata": {},
   "source": [
    "# Check a keyword`"
   ]
  },
  {
   "cell_type": "code",
   "execution_count": 23,
   "metadata": {},
   "outputs": [],
   "source": [
    "import keyword"
   ]
  },
  {
   "cell_type": "code",
   "execution_count": 24,
   "metadata": {},
   "outputs": [],
   "source": [
    "s='if'\n",
    "s1='sho'"
   ]
  },
  {
   "cell_type": "code",
   "execution_count": 26,
   "metadata": {},
   "outputs": [
    {
     "name": "stdout",
     "output_type": "stream",
     "text": [
      "if is a keyword\n"
     ]
    }
   ],
   "source": [
    "if  keyword.iskeyword (s):\n",
    "    print (s , 'is a keyword')\n",
    "else:\n",
    "    print(s,', is not a Keyword')"
   ]
  },
  {
   "cell_type": "code",
   "execution_count": 27,
   "metadata": {},
   "outputs": [
    {
     "name": "stdout",
     "output_type": "stream",
     "text": [
      "sho, is not a Keyword\n"
     ]
    }
   ],
   "source": [
    "if  keyword.iskeyword (s1):\n",
    "    print (s1 + ',is a keyword')\n",
    "else:\n",
    "    print(s1 + ', is not a Keyword')"
   ]
  },
  {
   "cell_type": "code",
   "execution_count": 172,
   "metadata": {},
   "outputs": [
    {
     "name": "stdout",
     "output_type": "stream",
     "text": [
      "['False', 'None', 'True', 'and', 'as', 'assert', 'break', 'class', 'continue', 'def', 'del', 'elif', 'else', 'except', 'finally', 'for', 'from', 'global', 'if', 'import', 'in', 'is', 'lambda', 'nonlocal', 'not', 'or', 'pass', 'raise', 'return', 'try', 'while', 'with', 'yield']\n"
     ]
    }
   ],
   "source": [
    "# Print all Keywords\n",
    "print (keyword.kwlist)"
   ]
  },
  {
   "cell_type": "code",
   "execution_count": 173,
   "metadata": {},
   "outputs": [
    {
     "name": "stdout",
     "output_type": "stream",
     "text": [
      "Amit\n",
      "Sharma\n"
     ]
    }
   ],
   "source": [
    "print ('Amit')\n",
    "print('Sharma')"
   ]
  },
  {
   "cell_type": "code",
   "execution_count": 175,
   "metadata": {},
   "outputs": [
    {
     "name": "stdout",
     "output_type": "stream",
     "text": [
      "geeks\n",
      "geeksforgeeks\n"
     ]
    },
    {
     "data": {
      "text/plain": [
       "(None, None)"
      ]
     },
     "execution_count": 175,
     "metadata": {},
     "output_type": "execute_result"
    }
   ],
   "source": [
    "print(\"geeks\"), print(\"geeksforgeeks\")"
   ]
  },
  {
   "cell_type": "code",
   "execution_count": 177,
   "metadata": {},
   "outputs": [
    {
     "data": {
      "text/plain": [
       "[1, 2, 3, 4]"
      ]
     },
     "execution_count": 177,
     "metadata": {},
     "output_type": "execute_result"
    }
   ],
   "source": [
    "a = [1, 2, 3, 4]\n",
    "a"
   ]
  },
  {
   "cell_type": "code",
   "execution_count": 31,
   "metadata": {},
   "outputs": [
    {
     "name": "stdout",
     "output_type": "stream",
     "text": [
      "Shobhit / Sharma\n"
     ]
    }
   ],
   "source": [
    "print ('Shobhit', end = ' / ') \n",
    "print ('Sharma')"
   ]
  },
  {
   "cell_type": "code",
   "execution_count": 32,
   "metadata": {},
   "outputs": [],
   "source": [
    "def add():\n",
    "    num1 = int(input('Enter Num1 :'))\n",
    "    num2 = int(input('Enter Num2: '))\n",
    "    print('Sum of 2 numbers are :' , num1 + num2)\n",
    "    "
   ]
  },
  {
   "cell_type": "code",
   "execution_count": 33,
   "metadata": {},
   "outputs": [
    {
     "name": "stdout",
     "output_type": "stream",
     "text": [
      "Enter Num1 :12\n",
      "Enter Num2: 12\n",
      "Sum of 2 numbers are : 24\n"
     ]
    }
   ],
   "source": [
    "add()"
   ]
  },
  {
   "cell_type": "code",
   "execution_count": 5,
   "metadata": {},
   "outputs": [],
   "source": [
    "def Sub(Num1, Num2):\n",
    "    num1 = int(input('Enter Num1 :'))\n",
    "    num2 = int(input('Enter Num2: '))\n",
    "    return Num1 - Num2"
   ]
  },
  {
   "cell_type": "code",
   "execution_count": 6,
   "metadata": {},
   "outputs": [
    {
     "name": "stdout",
     "output_type": "stream",
     "text": [
      "Enter Num1 :12\n",
      "Enter Num2: 2\n"
     ]
    },
    {
     "data": {
      "text/plain": [
       "-1"
      ]
     },
     "execution_count": 6,
     "metadata": {},
     "output_type": "execute_result"
    }
   ],
   "source": [
    "Sub(1,2)"
   ]
  },
  {
   "cell_type": "markdown",
   "metadata": {},
   "source": [
    "# Calculator"
   ]
  },
  {
   "cell_type": "code",
   "execution_count": 1,
   "metadata": {},
   "outputs": [],
   "source": [
    "def Add(Num1,Num2):\n",
    "    return Num1 + Num2"
   ]
  },
  {
   "cell_type": "code",
   "execution_count": 9,
   "metadata": {},
   "outputs": [
    {
     "data": {
      "text/plain": [
       "3"
      ]
     },
     "execution_count": 9,
     "metadata": {},
     "output_type": "execute_result"
    }
   ],
   "source": [
    "Add(1,2)"
   ]
  },
  {
   "cell_type": "code",
   "execution_count": 2,
   "metadata": {},
   "outputs": [],
   "source": [
    "def Minus (Num1,Num2):\n",
    "    return (Num1 - Num2)"
   ]
  },
  {
   "cell_type": "code",
   "execution_count": 3,
   "metadata": {},
   "outputs": [],
   "source": [
    "def Multi (Num1,Num2):\n",
    "    return(Num1 * Num2)"
   ]
  },
  {
   "cell_type": "code",
   "execution_count": 4,
   "metadata": {},
   "outputs": [],
   "source": [
    "def Div (Num1 ,Num2):\n",
    "    return (Num1/num2)"
   ]
  },
  {
   "cell_type": "code",
   "execution_count": 7,
   "metadata": {},
   "outputs": [
    {
     "name": "stdout",
     "output_type": "stream",
     "text": [
      " Press Enter to Continue\n",
      "\n"
     ]
    }
   ],
   "source": [
    "def Calc ():\n",
    "    v1 = int(input('Enter First Number :'))\n",
    "    v2 = int(input('Enter Second Number :'))\n",
    "    print ('Select your Opeartion : \\n ' \\\n",
    "            '1 for Addition \\n ' \\\n",
    "            '2 for Subtraction \\n ' \\\n",
    "            '3 for Multiplication \\n ' \\\n",
    "            '4 for Division ')\n",
    "    Choose = int(input('Choose a number for Operation :'))\n",
    "    if Choose == 1:\n",
    "        print('You Have Selected Addition Operation.')\n",
    "        print(v1 , '+' , v2 ,'=', Add(v1,v2))\n",
    "        print(input(' Press Enter to Continue'))\n",
    "    elif Choose == 2:\n",
    "        print('You Have Selected Subtraction Operation.')\n",
    "        print(v1 , '-' , v2 ,'=', Minus(v1,v2))\n",
    "        print(input(' Press Enter to Continue'))\n",
    "    elif Choose == 3:\n",
    "        print('You Have Selected Multiplication Operation.')\n",
    "        print(v1 , '*' , v2 ,'=', Multi(v1,v2))\n",
    "        print(input(' Press Enter to Continue'))\n",
    "    elif Choose == 4:\n",
    "        print('You Have Selected Division Operation.')\n",
    "        print(v1 , '\\'' , v2 ,'=', Div(v1,v2))\n",
    "        print(input(' Press Enter to Continue'))\n",
    "    else:\n",
    "        print ('Wrong Selction:')\n",
    "print(input(' Press Enter to Continue'))"
   ]
  },
  {
   "cell_type": "code",
   "execution_count": 8,
   "metadata": {},
   "outputs": [
    {
     "name": "stdout",
     "output_type": "stream",
     "text": [
      "Enter First Number :3\n",
      "Enter Second Number :23\n",
      "Select your Opeartion : \n",
      " 1 for Addition \n",
      " 2 for Subtraction \n",
      " 3 for Multiplication \n",
      " 4 for Division \n",
      "Choose a number for Operation :2\n",
      "You Have Selected Subtraction Operation.\n",
      "3 - 23 = -20\n",
      " Press Enter to Continue\n",
      "\n"
     ]
    }
   ],
   "source": [
    "Calc()"
   ]
  },
  {
   "cell_type": "markdown",
   "metadata": {},
   "source": [
    "#  Strings"
   ]
  },
  {
   "cell_type": "code",
   "execution_count": 9,
   "metadata": {},
   "outputs": [],
   "source": [
    "Str1 ='My Name is Shobhit Sharma'"
   ]
  },
  {
   "cell_type": "code",
   "execution_count": 10,
   "metadata": {},
   "outputs": [
    {
     "data": {
      "text/plain": [
       "'a'"
      ]
     },
     "execution_count": 10,
     "metadata": {},
     "output_type": "execute_result"
    }
   ],
   "source": [
    "Str1[4]"
   ]
  },
  {
   "cell_type": "code",
   "execution_count": 11,
   "metadata": {},
   "outputs": [
    {
     "name": "stdout",
     "output_type": "stream",
     "text": [
      "a\n"
     ]
    }
   ],
   "source": [
    "print(Str1[4])"
   ]
  },
  {
   "cell_type": "code",
   "execution_count": 12,
   "metadata": {},
   "outputs": [
    {
     "name": "stdout",
     "output_type": "stream",
     "text": [
      "S\n"
     ]
    }
   ],
   "source": [
    "print(Str1[-14])"
   ]
  },
  {
   "cell_type": "code",
   "execution_count": 13,
   "metadata": {},
   "outputs": [
    {
     "name": "stdout",
     "output_type": "stream",
     "text": [
      "a\n"
     ]
    }
   ],
   "source": [
    "# printing first Charater\n",
    "print(Str1[-1])"
   ]
  },
  {
   "cell_type": "code",
   "execution_count": 14,
   "metadata": {},
   "outputs": [
    {
     "name": "stdout",
     "output_type": "stream",
     "text": [
      "Name is Shobhit Shar\n"
     ]
    }
   ],
   "source": [
    "print (Str1[3:-2])"
   ]
  },
  {
   "cell_type": "code",
   "execution_count": 15,
   "metadata": {},
   "outputs": [
    {
     "name": "stdout",
     "output_type": "stream",
     "text": [
      " aei hbi hr\n"
     ]
    }
   ],
   "source": [
    "print (Str1[2:-2:2])"
   ]
  },
  {
   "cell_type": "code",
   "execution_count": 16,
   "metadata": {},
   "outputs": [
    {
     "ename": "TypeError",
     "evalue": "'str' object does not support item assignment",
     "output_type": "error",
     "traceback": [
      "\u001b[1;31m---------------------------------------------------------------------------\u001b[0m",
      "\u001b[1;31mTypeError\u001b[0m                                 Traceback (most recent call last)",
      "\u001b[1;32m<ipython-input-16-34c62dc5d1e8>\u001b[0m in \u001b[0;36m<module>\u001b[1;34m\u001b[0m\n\u001b[1;32m----> 1\u001b[1;33m \u001b[0mStr1\u001b[0m\u001b[1;33m[\u001b[0m\u001b[1;36m3\u001b[0m\u001b[1;33m]\u001b[0m\u001b[1;33m=\u001b[0m\u001b[1;34m'p'\u001b[0m\u001b[1;33m\u001b[0m\u001b[1;33m\u001b[0m\u001b[0m\n\u001b[0m",
      "\u001b[1;31mTypeError\u001b[0m: 'str' object does not support item assignment"
     ]
    }
   ],
   "source": [
    "Str1[3]='p'"
   ]
  },
  {
   "cell_type": "code",
   "execution_count": 17,
   "metadata": {},
   "outputs": [],
   "source": [
    "Str2 ='''I am \\'a Python Enthusiast'''"
   ]
  },
  {
   "cell_type": "code",
   "execution_count": 18,
   "metadata": {},
   "outputs": [
    {
     "data": {
      "text/plain": [
       "\"I am 'a Python Enthusiast\""
      ]
     },
     "execution_count": 18,
     "metadata": {},
     "output_type": "execute_result"
    }
   ],
   "source": [
    "Str2"
   ]
  },
  {
   "cell_type": "code",
   "execution_count": 19,
   "metadata": {},
   "outputs": [],
   "source": [
    "Str3 =r'C:\\Python\\Pycharm'"
   ]
  },
  {
   "cell_type": "code",
   "execution_count": 23,
   "metadata": {},
   "outputs": [],
   "source": [
    "Str3 =r'C:Python\\Pycharm'"
   ]
  },
  {
   "cell_type": "code",
   "execution_count": 24,
   "metadata": {},
   "outputs": [
    {
     "data": {
      "text/plain": [
       "'C:Python\\\\Pycharm'"
      ]
     },
     "execution_count": 24,
     "metadata": {},
     "output_type": "execute_result"
    }
   ],
   "source": [
    "Str3"
   ]
  },
  {
   "cell_type": "code",
   "execution_count": 66,
   "metadata": {},
   "outputs": [
    {
     "name": "stdout",
     "output_type": "stream",
     "text": [
      "My NAme is Shobhit Sharma\n"
     ]
    }
   ],
   "source": [
    "print('My NAme is {} {}'.format('Shobhit','Sharma'))"
   ]
  },
  {
   "cell_type": "code",
   "execution_count": 70,
   "metadata": {},
   "outputs": [
    {
     "name": "stdout",
     "output_type": "stream",
     "text": [
      "My Name is Shobhit Jr. Sharma\n"
     ]
    }
   ],
   "source": [
    "print('My Name is {l} {p} {a}'.format(l='Shobhit',a='Sharma',p='Jr.'))"
   ]
  },
  {
   "cell_type": "code",
   "execution_count": 74,
   "metadata": {},
   "outputs": [
    {
     "name": "stdout",
     "output_type": "stream",
     "text": [
      "\n",
      "Left, center and right alignment with Formatting: \n",
      "|Geeks     |   for    |     Geeks|\n"
     ]
    }
   ],
   "source": [
    "String1 = \"|{:<10}|{:^10}|{:>10}|\".format('Geeks','for','Geeks') \n",
    "print(\"\\nLeft, center and right alignment with Formatting: \")\n",
    "print(String1)"
   ]
  },
  {
   "cell_type": "code",
   "execution_count": 26,
   "metadata": {},
   "outputs": [],
   "source": [
    "Str3 ='my Name is Shobhit Sharma'"
   ]
  },
  {
   "cell_type": "code",
   "execution_count": 27,
   "metadata": {},
   "outputs": [
    {
     "name": "stdout",
     "output_type": "stream",
     "text": [
      "3\n"
     ]
    }
   ],
   "source": [
    "print(Str3.count('a'))"
   ]
  },
  {
   "cell_type": "code",
   "execution_count": 28,
   "metadata": {},
   "outputs": [
    {
     "name": "stdout",
     "output_type": "stream",
     "text": [
      "b'my Name is Shobhit Sharma'\n"
     ]
    }
   ],
   "source": [
    "print(Str3.encode())"
   ]
  },
  {
   "cell_type": "code",
   "execution_count": 31,
   "metadata": {},
   "outputs": [
    {
     "name": "stdout",
     "output_type": "stream",
     "text": [
      "my Name is Shobhit Sharma\n"
     ]
    }
   ],
   "source": [
    "print(Str3.lstrip('r'))"
   ]
  },
  {
   "cell_type": "code",
   "execution_count": 30,
   "metadata": {},
   "outputs": [
    {
     "name": "stdout",
     "output_type": "stream",
     "text": [
      "py Nape is Shobhit Sharpa\n"
     ]
    }
   ],
   "source": [
    "print(Str3.replace('m','p'))"
   ]
  },
  {
   "cell_type": "code",
   "execution_count": 34,
   "metadata": {},
   "outputs": [
    {
     "ename": "TypeError",
     "evalue": "translate() takes exactly one argument (2 given)",
     "output_type": "error",
     "traceback": [
      "\u001b[1;31m---------------------------------------------------------------------------\u001b[0m",
      "\u001b[1;31mTypeError\u001b[0m                                 Traceback (most recent call last)",
      "\u001b[1;32m<ipython-input-34-3ab897ee01fc>\u001b[0m in \u001b[0;36m<module>\u001b[1;34m\u001b[0m\n\u001b[1;32m----> 1\u001b[1;33m \u001b[0mprint\u001b[0m\u001b[1;33m(\u001b[0m\u001b[0mStr3\u001b[0m\u001b[1;33m.\u001b[0m\u001b[0mtranslate\u001b[0m\u001b[1;33m(\u001b[0m\u001b[1;34m'm'\u001b[0m\u001b[1;33m,\u001b[0m\u001b[1;34m'a'\u001b[0m\u001b[1;33m)\u001b[0m\u001b[1;33m)\u001b[0m\u001b[1;33m\u001b[0m\u001b[1;33m\u001b[0m\u001b[0m\n\u001b[0m",
      "\u001b[1;31mTypeError\u001b[0m: translate() takes exactly one argument (2 given)"
     ]
    }
   ],
   "source": [
    "print(Str3.translate('m'))"
   ]
  },
  {
   "cell_type": "code",
   "execution_count": 35,
   "metadata": {},
   "outputs": [],
   "source": [
    "Str3.translate?"
   ]
  },
  {
   "cell_type": "code",
   "execution_count": 110,
   "metadata": {},
   "outputs": [
    {
     "name": "stdout",
     "output_type": "stream",
     "text": [
      "9\n"
     ]
    }
   ],
   "source": [
    "print(Str3.index('s'))"
   ]
  },
  {
   "cell_type": "code",
   "execution_count": 39,
   "metadata": {},
   "outputs": [
    {
     "name": "stdout",
     "output_type": "stream",
     "text": [
      "Shobhit,Gaurav,Amit,Vihaan\n"
     ]
    }
   ],
   "source": [
    "Str= 'Shobhit,Gaurav,Amit,Vihaan'\n",
    "print(Str)"
   ]
  },
  {
   "cell_type": "code",
   "execution_count": 45,
   "metadata": {},
   "outputs": [],
   "source": [
    "# Split converts string into List Datatype\n",
    "spl1=Str.split(',')"
   ]
  },
  {
   "cell_type": "code",
   "execution_count": 48,
   "metadata": {},
   "outputs": [
    {
     "name": "stdout",
     "output_type": "stream",
     "text": [
      "['Shobhit', 'Gaurav', 'Amit', 'Vihaan']\n"
     ]
    }
   ],
   "source": [
    "print(spl1)"
   ]
  },
  {
   "cell_type": "code",
   "execution_count": 52,
   "metadata": {},
   "outputs": [],
   "source": [
    "Str2 = spl1[::-1]"
   ]
  },
  {
   "cell_type": "code",
   "execution_count": 53,
   "metadata": {},
   "outputs": [
    {
     "name": "stdout",
     "output_type": "stream",
     "text": [
      "['Vihaan', 'Amit', 'Gaurav', 'Shobhit']\n"
     ]
    }
   ],
   "source": [
    "print(Str2)"
   ]
  },
  {
   "cell_type": "code",
   "execution_count": 54,
   "metadata": {},
   "outputs": [],
   "source": [
    "Join1= ''.join(Str2)"
   ]
  },
  {
   "cell_type": "code",
   "execution_count": 55,
   "metadata": {},
   "outputs": [
    {
     "name": "stdout",
     "output_type": "stream",
     "text": [
      "VihaanAmitGauravShobhit\n"
     ]
    }
   ],
   "source": [
    "print(Join1)"
   ]
  },
  {
   "cell_type": "code",
   "execution_count": 56,
   "metadata": {},
   "outputs": [],
   "source": [
    "Join2 = '/'.join(Str2)"
   ]
  },
  {
   "cell_type": "code",
   "execution_count": 57,
   "metadata": {},
   "outputs": [
    {
     "name": "stdout",
     "output_type": "stream",
     "text": [
      "Vihaan/Amit/Gaurav/Shobhit\n"
     ]
    }
   ],
   "source": [
    "print(Join2)"
   ]
  },
  {
   "cell_type": "code",
   "execution_count": 36,
   "metadata": {},
   "outputs": [
    {
     "name": "stdout",
     "output_type": "stream",
     "text": [
      "['Python', 'Django', 'CSS', 'Java']\n",
      "['Java', 'CSS', 'Django', 'Python']\n",
      "JavaCSSDjangoPython\n",
      "Java/CSS/Django/Python\n"
     ]
    }
   ],
   "source": [
    "s1 = \"Python,Django,CSS,Java\"\n",
    "\n",
    "l1 = s1.split(\",\")\n",
    "print(l1)\n",
    "l2 = l1[::-1]\n",
    "print(l2)\n",
    "l3=''.join(l2)\n",
    "print(l3)\n",
    "s2 = (\"/\").join(l2)\n",
    "print(s2)"
   ]
  },
  {
   "cell_type": "code",
   "execution_count": 8,
   "metadata": {},
   "outputs": [
    {
     "name": "stdout",
     "output_type": "stream",
     "text": [
      "['In', 'Out', '_', '_1', '_2', '__', '___', '__builtin__', '__builtins__', '__doc__', '__loader__', '__name__', '__package__', '__spec__', '_dh', '_i', '_i1', '_i2', '_i3', '_i4', '_i5', '_i6', '_i7', '_i8', '_ih', '_ii', '_iii', '_oh', 'exit', 'get_ipython', 'l1', 'l2', 'l3', 'quit', 's1', 's2']\n"
     ]
    }
   ],
   "source": [
    "print(dir())"
   ]
  },
  {
   "cell_type": "markdown",
   "metadata": {},
   "source": [
    "- ### find-- Returns the index of first occurenece from starting of element passed\n",
    "- ### rfind --Returns the index of first occurenece from Left of element passed\n",
    "- ### index -- Same as find\n",
    "- ### rindex -- same as rfind\n",
    "- ### count -- Count Number of occurence\n",
    "- ### replace -- replaces 2nd element from 1st one in Strng"
   ]
  },
  {
   "cell_type": "code",
   "execution_count": 10,
   "metadata": {},
   "outputs": [
    {
     "name": "stdout",
     "output_type": "stream",
     "text": [
      "Python,Django,CSS,Java\n"
     ]
    }
   ],
   "source": [
    "print(s1)"
   ]
  },
  {
   "cell_type": "code",
   "execution_count": 22,
   "metadata": {},
   "outputs": [
    {
     "name": "stdout",
     "output_type": "stream",
     "text": [
      "18\n",
      "16\n",
      "18\n",
      "16\n",
      "3\n",
      "Python,Django,CAA,Java\n"
     ]
    }
   ],
   "source": [
    "print (s1.find('Ja'))\n",
    "print (s1.rfind('S'))\n",
    "print (s1.index('Ja'))\n",
    "print (s1.rindex('S'))\n",
    "print (s1.count('a'))\n",
    "print (s1.replace('S','A'))"
   ]
  },
  {
   "cell_type": "code",
   "execution_count": 58,
   "metadata": {},
   "outputs": [],
   "source": [
    "s1.maketrans?"
   ]
  },
  {
   "cell_type": "code",
   "execution_count": 3,
   "metadata": {},
   "outputs": [
    {
     "data": {
      "text/plain": [
       "{80: 68}"
      ]
     },
     "execution_count": 3,
     "metadata": {},
     "output_type": "execute_result"
    }
   ],
   "source": [
    "s1.maketrans('P','D')"
   ]
  },
  {
   "cell_type": "markdown",
   "metadata": {},
   "source": [
    "### center\n",
    "### ljust \n",
    "### rjust \n",
    "\n",
    "### strip\n",
    "### lstrip\n",
    "### rstrip"
   ]
  },
  {
   "cell_type": "code",
   "execution_count": 4,
   "metadata": {},
   "outputs": [
    {
     "name": "stdout",
     "output_type": "stream",
     "text": [
      "#######Python#######\n"
     ]
    }
   ],
   "source": [
    "s = \"Python\"\n",
    "s1 = s.center(20,\"#\")\n",
    "print(s1)"
   ]
  },
  {
   "cell_type": "code",
   "execution_count": 22,
   "metadata": {},
   "outputs": [
    {
     "name": "stdout",
     "output_type": "stream",
     "text": [
      "15\n",
      "#Python Language##\n",
      "Python Language#####\n",
      "#####Python Language\n",
      "Python Language\n",
      "Python Language##\n",
      "#Python Language\n"
     ]
    }
   ],
   "source": [
    "s = \"Python Language\"\n",
    "print(len(s))\n",
    "s1 = s.center(18,\"#\")\n",
    "s2 = s.ljust(20,\"#\")\n",
    "s3 = s.rjust(20,\"#\")\n",
    "s4 = s3.strip('#')\n",
    "s5 = s1.lstrip('#')\n",
    "s6 = s1.rstrip('#')\n",
    "print(s1)\n",
    "print(s2)\n",
    "print(s3)\n",
    "print(s4)\n",
    "print(s5)\n",
    "print(s6)"
   ]
  },
  {
   "cell_type": "markdown",
   "metadata": {},
   "source": [
    "## Functions in String"
   ]
  },
  {
   "cell_type": "code",
   "execution_count": null,
   "metadata": {},
   "outputs": [],
   "source": [
    "upper \n",
    "lower\n",
    "title\n",
    "capitalize \n",
    "isupper \n",
    "islower\n",
    "istitle\n",
    "\n",
    "\n",
    "isalpha \n",
    "isdigit\n",
    "isalnum \n",
    "isspace \n",
    "\n",
    "maketrans\n",
    "translate\n",
    "\n",
    "find \n",
    "replace \n",
    "rfind \n",
    "index \n",
    "rindex \n",
    "\n",
    "center \n",
    "rjust \n",
    "ljust \n",
    "\n",
    "strip \n",
    "lstrip\n",
    "rstrip \n",
    "\n",
    "\n",
    "split \n",
    "join \n",
    "\n",
    "format "
   ]
  },
  {
   "cell_type": "code",
   "execution_count": null,
   "metadata": {},
   "outputs": [],
   "source": []
  },
  {
   "cell_type": "code",
   "execution_count": null,
   "metadata": {},
   "outputs": [],
   "source": []
  },
  {
   "cell_type": "markdown",
   "metadata": {},
   "source": [
    "# List"
   ]
  },
  {
   "cell_type": "code",
   "execution_count": null,
   "metadata": {},
   "outputs": [],
   "source": []
  },
  {
   "cell_type": "code",
   "execution_count": 59,
   "metadata": {},
   "outputs": [
    {
     "name": "stdout",
     "output_type": "stream",
     "text": [
      "[]\n"
     ]
    }
   ],
   "source": [
    "List=[]\n",
    "print(List)"
   ]
  },
  {
   "cell_type": "code",
   "execution_count": 51,
   "metadata": {},
   "outputs": [
    {
     "name": "stdout",
     "output_type": "stream",
     "text": [
      "\n",
      "List containing multiple values: \n",
      "Geeks\n",
      "For\n"
     ]
    }
   ],
   "source": [
    "List = [\"Geeks\", \"For\", \"Geeks\"] \n",
    "print(\"\\nList containing multiple values: \") \n",
    "print(List[2])\n",
    "print(List[1])"
   ]
  },
  {
   "cell_type": "markdown",
   "metadata": {},
   "source": [
    "## Adding element to a List\n",
    "#### Append - One Element at a Time List \n",
    "            for Example , List.append ([1,2]) --> will consider 1,2 as one list (one object)\n",
    "#### Extend - Can add multiple item, \n",
    "            for example , List.extend ([3,4])--> Will add 3 and 4 as 2 different items\n",
    "#### insert - One element at a time BUT at the specific index"
   ]
  },
  {
   "cell_type": "code",
   "execution_count": 60,
   "metadata": {},
   "outputs": [
    {
     "data": {
      "text/plain": [
       "[4]"
      ]
     },
     "execution_count": 60,
     "metadata": {},
     "output_type": "execute_result"
    }
   ],
   "source": [
    "List.append(4)\n",
    "List"
   ]
  },
  {
   "cell_type": "code",
   "execution_count": 61,
   "metadata": {},
   "outputs": [
    {
     "data": {
      "text/plain": [
       "[4, [5, 'Hi']]"
      ]
     },
     "execution_count": 61,
     "metadata": {},
     "output_type": "execute_result"
    }
   ],
   "source": [
    "List.append([5,'Hi'])\n",
    "List\n",
    "\n",
    "# Adde [5,'Hi'] as one item"
   ]
  },
  {
   "cell_type": "code",
   "execution_count": 62,
   "metadata": {},
   "outputs": [
    {
     "data": {
      "text/plain": [
       "[4, [5, 'Hi'], 6, 'Hello']"
      ]
     },
     "execution_count": 62,
     "metadata": {},
     "output_type": "execute_result"
    }
   ],
   "source": [
    "List.extend([6,'Hello'])\n",
    "List\n",
    "\n",
    "# Added [6,'Hello'] as 2 different items in List"
   ]
  },
  {
   "cell_type": "code",
   "execution_count": 57,
   "metadata": {},
   "outputs": [
    {
     "data": {
      "text/plain": [
       "['Geeks', 'For', 'Geeks', 'Python', 4, [5, 'Hi'], 6, 'Hello']"
      ]
     },
     "execution_count": 57,
     "metadata": {},
     "output_type": "execute_result"
    }
   ],
   "source": [
    "List.insert(3,'Python')\n",
    "List\n",
    "\n",
    "# Inserted 'Python' at index 3 and pushed the list one index right "
   ]
  },
  {
   "cell_type": "code",
   "execution_count": 63,
   "metadata": {},
   "outputs": [
    {
     "name": "stdout",
     "output_type": "stream",
     "text": [
      "[1, 2, 3, 4]\n"
     ]
    }
   ],
   "source": [
    "lista = [1,2,3,4]\n",
    "print(lista)"
   ]
  },
  {
   "cell_type": "code",
   "execution_count": 64,
   "metadata": {},
   "outputs": [
    {
     "name": "stdout",
     "output_type": "stream",
     "text": [
      "[1, 2, 3, 4, [5, 4, 3]]\n"
     ]
    }
   ],
   "source": [
    "lista.append([5,4,3])\n",
    "print(lista)"
   ]
  },
  {
   "cell_type": "code",
   "execution_count": 65,
   "metadata": {},
   "outputs": [
    {
     "name": "stdout",
     "output_type": "stream",
     "text": [
      "[1, 2, 3, 4, [5, 4, 3], 5, 6, 7]\n"
     ]
    }
   ],
   "source": [
    "lista.extend([5,6,7])\n",
    "print(lista)"
   ]
  },
  {
   "cell_type": "code",
   "execution_count": 66,
   "metadata": {},
   "outputs": [
    {
     "name": "stdout",
     "output_type": "stream",
     "text": [
      "[4, [5, 'Hi'], 6, 'Hello', 'Van', 'Dam']\n"
     ]
    }
   ],
   "source": [
    "List.extend(['Van','Dam'])\n",
    "List\n",
    "print(List)"
   ]
  },
  {
   "cell_type": "code",
   "execution_count": 59,
   "metadata": {},
   "outputs": [
    {
     "name": "stdout",
     "output_type": "stream",
     "text": [
      "['Geeks', 'For', 'Geeks', 'Python', 4, [5, 'Hi'], 6, 'Hello', 'Van', 'Dam', 0, 1, 2, 3]\n"
     ]
    }
   ],
   "source": [
    "# Loopin in List\n",
    "for i in range(0,4):\n",
    "    List.append(i)\n",
    "print(List)\n",
    "  "
   ]
  },
  {
   "cell_type": "code",
   "execution_count": 60,
   "metadata": {},
   "outputs": [],
   "source": [
    "List1=['Shobhit','Sharma']"
   ]
  },
  {
   "cell_type": "code",
   "execution_count": 61,
   "metadata": {},
   "outputs": [],
   "source": [
    "List.append(List1)"
   ]
  },
  {
   "cell_type": "code",
   "execution_count": 62,
   "metadata": {},
   "outputs": [
    {
     "data": {
      "text/plain": [
       "['Geeks',\n",
       " 'For',\n",
       " 'Geeks',\n",
       " 'Python',\n",
       " 4,\n",
       " [5, 'Hi'],\n",
       " 6,\n",
       " 'Hello',\n",
       " 'Van',\n",
       " 'Dam',\n",
       " 0,\n",
       " 1,\n",
       " 2,\n",
       " 3,\n",
       " ['Shobhit', 'Sharma']]"
      ]
     },
     "execution_count": 62,
     "metadata": {},
     "output_type": "execute_result"
    }
   ],
   "source": [
    "List"
   ]
  },
  {
   "cell_type": "markdown",
   "metadata": {},
   "source": [
    "### Remove--Remove The first Occurence of Item passed in function\n",
    "### Pop-- Remove the item  at index passed in function and returns the item at that index \n",
    "### Clear-- Removes all elements from a list"
   ]
  },
  {
   "cell_type": "code",
   "execution_count": 67,
   "metadata": {},
   "outputs": [
    {
     "data": {
      "text/plain": [
       "[4, [5, 'Hi'], 6, 'Hello', 'Dam']"
      ]
     },
     "execution_count": 67,
     "metadata": {},
     "output_type": "execute_result"
    }
   ],
   "source": [
    "List.remove ('Van')\n",
    "List\n",
    "\n",
    "# Removed 'Van' from List"
   ]
  },
  {
   "cell_type": "code",
   "execution_count": 71,
   "metadata": {},
   "outputs": [
    {
     "data": {
      "text/plain": [
       "['For',\n",
       " 'Geeks',\n",
       " 'Python',\n",
       " 4,\n",
       " [5, 'Hi'],\n",
       " 6,\n",
       " 'Hello',\n",
       " 'Dam',\n",
       " 0,\n",
       " 1,\n",
       " 2,\n",
       " 3,\n",
       " ['Shobhit', 'Sharma']]"
      ]
     },
     "execution_count": 71,
     "metadata": {},
     "output_type": "execute_result"
    }
   ],
   "source": [
    "List.remove('Geeks')\n",
    "List\n",
    "\n",
    "# removed First Occurence of geeks from List"
   ]
  },
  {
   "cell_type": "code",
   "execution_count": 74,
   "metadata": {},
   "outputs": [
    {
     "data": {
      "text/plain": [
       "'Hello'"
      ]
     },
     "execution_count": 74,
     "metadata": {},
     "output_type": "execute_result"
    }
   ],
   "source": [
    "List.pop(5)\n",
    "\n",
    "# Removed Element at 5th index 'hello' and returned Hello"
   ]
  },
  {
   "cell_type": "code",
   "execution_count": 76,
   "metadata": {},
   "outputs": [
    {
     "data": {
      "text/plain": [
       "[]"
      ]
     },
     "execution_count": 76,
     "metadata": {},
     "output_type": "execute_result"
    }
   ],
   "source": [
    "List.clear()\n",
    "List"
   ]
  },
  {
   "cell_type": "code",
   "execution_count": 68,
   "metadata": {},
   "outputs": [
    {
     "data": {
      "text/plain": [
       "[0, 1, 2, 3, 4]"
      ]
     },
     "execution_count": 68,
     "metadata": {},
     "output_type": "execute_result"
    }
   ],
   "source": [
    "List1=list(range(0,5))\n",
    "List1"
   ]
  },
  {
   "cell_type": "code",
   "execution_count": 70,
   "metadata": {},
   "outputs": [
    {
     "data": {
      "text/plain": [
       "[0,\n",
       " 1,\n",
       " 'Hello',\n",
       " 'Hello',\n",
       " 2,\n",
       " 3,\n",
       " 4,\n",
       " 2,\n",
       " 3,\n",
       " 5,\n",
       " 1,\n",
       " 2,\n",
       " 34,\n",
       " 5,\n",
       " [2, 4],\n",
       " 3,\n",
       " 5,\n",
       " 1,\n",
       " 2,\n",
       " 34,\n",
       " 5]"
      ]
     },
     "execution_count": 70,
     "metadata": {},
     "output_type": "execute_result"
    }
   ],
   "source": [
    "List1.append([2,4])\n",
    "List1\n",
    "List1.extend([3,5,1,2,34,5])\n",
    "List1\n",
    "List1.insert(2,'Hello')\n",
    "List1"
   ]
  },
  {
   "cell_type": "markdown",
   "metadata": {},
   "source": [
    "## Slicing in List \n",
    "    list [start:stop:step]"
   ]
  },
  {
   "cell_type": "code",
   "execution_count": 71,
   "metadata": {},
   "outputs": [
    {
     "data": {
      "text/plain": [
       "[0,\n",
       " 1,\n",
       " 'Hello',\n",
       " 'Hello',\n",
       " 2,\n",
       " 3,\n",
       " 4,\n",
       " 2,\n",
       " 3,\n",
       " 5,\n",
       " 1,\n",
       " 2,\n",
       " 34,\n",
       " 5,\n",
       " [2, 4],\n",
       " 3,\n",
       " 5,\n",
       " 1,\n",
       " 2,\n",
       " 34,\n",
       " 5]"
      ]
     },
     "execution_count": 71,
     "metadata": {},
     "output_type": "execute_result"
    }
   ],
   "source": [
    "List1"
   ]
  },
  {
   "cell_type": "code",
   "execution_count": 72,
   "metadata": {},
   "outputs": [
    {
     "data": {
      "text/plain": [
       "[5,\n",
       " 34,\n",
       " 2,\n",
       " 1,\n",
       " 5,\n",
       " 3,\n",
       " [2, 4],\n",
       " 5,\n",
       " 34,\n",
       " 2,\n",
       " 1,\n",
       " 5,\n",
       " 3,\n",
       " 2,\n",
       " 4,\n",
       " 3,\n",
       " 2,\n",
       " 'Hello',\n",
       " 'Hello',\n",
       " 1,\n",
       " 0]"
      ]
     },
     "execution_count": 72,
     "metadata": {},
     "output_type": "execute_result"
    }
   ],
   "source": [
    "List1[::-1]"
   ]
  },
  {
   "cell_type": "code",
   "execution_count": 82,
   "metadata": {},
   "outputs": [
    {
     "data": {
      "text/plain": [
       "[]"
      ]
     },
     "execution_count": 82,
     "metadata": {},
     "output_type": "execute_result"
    }
   ],
   "source": [
    "List1[-6:2]"
   ]
  },
  {
   "cell_type": "code",
   "execution_count": 73,
   "metadata": {},
   "outputs": [
    {
     "name": "stdout",
     "output_type": "stream",
     "text": [
      "[1, 2, 3, 4, [5, 4, 3], 5, 6, 7]\n"
     ]
    }
   ],
   "source": [
    "print(lista)"
   ]
  },
  {
   "cell_type": "code",
   "execution_count": 74,
   "metadata": {},
   "outputs": [
    {
     "data": {
      "text/plain": [
       "2"
      ]
     },
     "execution_count": 74,
     "metadata": {},
     "output_type": "execute_result"
    }
   ],
   "source": [
    "lista[-7]"
   ]
  },
  {
   "cell_type": "code",
   "execution_count": 75,
   "metadata": {},
   "outputs": [
    {
     "data": {
      "text/plain": [
       "[7, 6, 5, [5, 4, 3], 4, 3, 2, 1]"
      ]
     },
     "execution_count": 75,
     "metadata": {},
     "output_type": "execute_result"
    }
   ],
   "source": [
    "lista[::-1]"
   ]
  },
  {
   "cell_type": "code",
   "execution_count": 84,
   "metadata": {},
   "outputs": [
    {
     "data": {
      "text/plain": [
       "[]"
      ]
     },
     "execution_count": 84,
     "metadata": {},
     "output_type": "execute_result"
    }
   ],
   "source": [
    "lista[-7:1:-1]"
   ]
  },
  {
   "cell_type": "code",
   "execution_count": 91,
   "metadata": {},
   "outputs": [],
   "source": [
    "list_comp = [i for i in  range(1,11)]"
   ]
  },
  {
   "cell_type": "code",
   "execution_count": 92,
   "metadata": {},
   "outputs": [
    {
     "name": "stdout",
     "output_type": "stream",
     "text": [
      "[1, 2, 3, 4, 5, 6, 7, 8, 9, 10]\n"
     ]
    }
   ],
   "source": [
    "print(list_comp)"
   ]
  },
  {
   "cell_type": "code",
   "execution_count": 94,
   "metadata": {},
   "outputs": [
    {
     "data": {
      "text/plain": [
       "[2, 3, 4, 5, 6, 7, 8]"
      ]
     },
     "execution_count": 94,
     "metadata": {},
     "output_type": "execute_result"
    }
   ],
   "source": [
    "list_comp[1:8]"
   ]
  },
  {
   "cell_type": "code",
   "execution_count": 105,
   "metadata": {},
   "outputs": [
    {
     "data": {
      "text/plain": [
       "[2, 3, 4, 5, 6, 7]"
      ]
     },
     "execution_count": 105,
     "metadata": {},
     "output_type": "execute_result"
    }
   ],
   "source": [
    "list_comp [1:-3:1]"
   ]
  },
  {
   "cell_type": "code",
   "execution_count": 107,
   "metadata": {},
   "outputs": [
    {
     "data": {
      "text/plain": [
       "[2, 3]"
      ]
     },
     "execution_count": 107,
     "metadata": {},
     "output_type": "execute_result"
    }
   ],
   "source": [
    "list_comp[-9:3]"
   ]
  },
  {
   "cell_type": "code",
   "execution_count": null,
   "metadata": {},
   "outputs": [],
   "source": []
  },
  {
   "cell_type": "code",
   "execution_count": null,
   "metadata": {},
   "outputs": [],
   "source": []
  },
  {
   "cell_type": "code",
   "execution_count": null,
   "metadata": {},
   "outputs": [],
   "source": []
  },
  {
   "cell_type": "code",
   "execution_count": null,
   "metadata": {},
   "outputs": [],
   "source": []
  },
  {
   "cell_type": "code",
   "execution_count": 88,
   "metadata": {},
   "outputs": [
    {
     "data": {
      "text/plain": [
       "[3, 5, 1]"
      ]
     },
     "execution_count": 88,
     "metadata": {},
     "output_type": "execute_result"
    }
   ],
   "source": [
    "List1[-6:10]"
   ]
  },
  {
   "cell_type": "code",
   "execution_count": 99,
   "metadata": {},
   "outputs": [
    {
     "data": {
      "text/plain": [
       "[]"
      ]
     },
     "execution_count": 99,
     "metadata": {},
     "output_type": "execute_result"
    }
   ],
   "source": [
    "List1[-6:12:-1]"
   ]
  },
  {
   "cell_type": "code",
   "execution_count": 100,
   "metadata": {},
   "outputs": [
    {
     "data": {
      "text/plain": [
       "[2, 4, 3, 2, 'Hello']"
      ]
     },
     "execution_count": 100,
     "metadata": {},
     "output_type": "execute_result"
    }
   ],
   "source": [
    "List1[6:-12:-1]"
   ]
  },
  {
   "cell_type": "markdown",
   "metadata": {},
   "source": [
    "### index -- Returns first index of element passed in function\n",
    "### Count-- Counts the number of occurence of a particular element passed in function  \n",
    "### reverse -- reverse the whole list"
   ]
  },
  {
   "cell_type": "code",
   "execution_count": 109,
   "metadata": {},
   "outputs": [
    {
     "data": {
      "text/plain": [
       "2"
      ]
     },
     "execution_count": 109,
     "metadata": {},
     "output_type": "execute_result"
    }
   ],
   "source": [
    "List1.index('Hello')\n",
    "\n",
    "# returned index of 'Hello'"
   ]
  },
  {
   "cell_type": "code",
   "execution_count": 111,
   "metadata": {},
   "outputs": [
    {
     "data": {
      "text/plain": [
       "4"
      ]
     },
     "execution_count": 111,
     "metadata": {},
     "output_type": "execute_result"
    }
   ],
   "source": [
    "List1.index(3)\n",
    "\n",
    "# returned index of first occurence of 3"
   ]
  },
  {
   "cell_type": "code",
   "execution_count": 113,
   "metadata": {},
   "outputs": [
    {
     "data": {
      "text/plain": [
       "2"
      ]
     },
     "execution_count": 113,
     "metadata": {},
     "output_type": "execute_result"
    }
   ],
   "source": [
    "List1.count(3)\n",
    "\n",
    "# returns the number of element in List"
   ]
  },
  {
   "cell_type": "code",
   "execution_count": 124,
   "metadata": {},
   "outputs": [
    {
     "data": {
      "text/plain": [
       "[5, 34, 2, 1, 5, 3, 2, 4, 3, 2, 'Hello', 1, 0]"
      ]
     },
     "execution_count": 124,
     "metadata": {},
     "output_type": "execute_result"
    }
   ],
   "source": [
    "List1.reverse()\n",
    "List1"
   ]
  },
  {
   "cell_type": "code",
   "execution_count": 125,
   "metadata": {},
   "outputs": [
    {
     "data": {
      "text/plain": [
       "34"
      ]
     },
     "execution_count": 125,
     "metadata": {},
     "output_type": "execute_result"
    }
   ],
   "source": [
    "List1[1]"
   ]
  },
  {
   "cell_type": "markdown",
   "metadata": {},
   "source": [
    "# Tuple"
   ]
  },
  {
   "cell_type": "code",
   "execution_count": 126,
   "metadata": {},
   "outputs": [],
   "source": [
    "tuple1 =(1,2,34)"
   ]
  },
  {
   "cell_type": "code",
   "execution_count": 127,
   "metadata": {},
   "outputs": [
    {
     "data": {
      "text/plain": [
       "(1, 2, 34)"
      ]
     },
     "execution_count": 127,
     "metadata": {},
     "output_type": "execute_result"
    }
   ],
   "source": [
    "tuple1"
   ]
  },
  {
   "cell_type": "code",
   "execution_count": 129,
   "metadata": {},
   "outputs": [],
   "source": [
    "def fun(a, b, c, d): \n",
    "    print(a, b, c, d) "
   ]
  },
  {
   "cell_type": "code",
   "execution_count": 130,
   "metadata": {},
   "outputs": [
    {
     "name": "stdout",
     "output_type": "stream",
     "text": [
      "1 2 3 4\n"
     ]
    }
   ],
   "source": [
    "my_list = [1,2,3,4]\n",
    "fun(*my_list)"
   ]
  },
  {
   "cell_type": "code",
   "execution_count": 131,
   "metadata": {},
   "outputs": [],
   "source": [
    "def sum1(*args):\n",
    "    sum=0\n",
    "    for i in range (0,len(args)):\n",
    "        sum = sum + args[i]\n",
    "\n",
    "    return sum"
   ]
  },
  {
   "cell_type": "code",
   "execution_count": 132,
   "metadata": {},
   "outputs": [
    {
     "name": "stdout",
     "output_type": "stream",
     "text": [
      "10\n"
     ]
    }
   ],
   "source": [
    "print(sum1(1,2,3,4,))"
   ]
  },
  {
   "cell_type": "code",
   "execution_count": 22,
   "metadata": {},
   "outputs": [
    {
     "name": "stdout",
     "output_type": "stream",
     "text": [
      "first == Geeks\n",
      "mid == for\n",
      "last == Geeks\n",
      "new == name\n"
     ]
    }
   ],
   "source": [
    "# Python program to illustrate \n",
    "# *kargs for variable number of keyword arguments \n",
    "\n",
    "def myFun(**kwargs): \n",
    "\tfor key, value in kwargs.items(): \n",
    "\t\tprint (\"%s == %s\" %(key, value)) \n",
    "\n",
    "# Driver code \n",
    "myFun(first ='Geeks', mid ='for', last='Geeks', new='name')\t \n"
   ]
  },
  {
   "cell_type": "code",
   "execution_count": 108,
   "metadata": {},
   "outputs": [],
   "source": [
    "from math import sqrt\n",
    "n = 3 # raw_input(\"Maximal Number? \")\n",
    "n = int(n)+1\n",
    "for a in range(1,n):\n",
    "    for b in range(a,n):\n",
    "        c_square = a**2 + b**2\n",
    "        c = int(sqrt(c_square))\n",
    "        if ((c_square - c**2) == 0):\n",
    "            print (a, b, c)"
   ]
  },
  {
   "cell_type": "code",
   "execution_count": 29,
   "metadata": {},
   "outputs": [
    {
     "name": "stdout",
     "output_type": "stream",
     "text": [
      "3\n"
     ]
    }
   ],
   "source": [
    "print (3)"
   ]
  },
  {
   "cell_type": "code",
   "execution_count": 30,
   "metadata": {},
   "outputs": [],
   "source": [
    "x = {'a': 1, 'b': 2}\n",
    "y = {'b': 3, 'c': 4}"
   ]
  },
  {
   "cell_type": "code",
   "execution_count": 31,
   "metadata": {},
   "outputs": [],
   "source": [
    "z = {**x, **y}"
   ]
  },
  {
   "cell_type": "code",
   "execution_count": 32,
   "metadata": {},
   "outputs": [
    {
     "data": {
      "text/plain": [
       "{'a': 1, 'b': 3, 'c': 4}"
      ]
     },
     "execution_count": 32,
     "metadata": {},
     "output_type": "execute_result"
    }
   ],
   "source": [
    "z"
   ]
  },
  {
   "cell_type": "code",
   "execution_count": 134,
   "metadata": {},
   "outputs": [
    {
     "name": "stdout",
     "output_type": "stream",
     "text": [
      "Enter Numbrer:45\n"
     ]
    }
   ],
   "source": [
    "n = (int(input('Enter Numbrer:')))"
   ]
  },
  {
   "cell_type": "code",
   "execution_count": 8,
   "metadata": {},
   "outputs": [],
   "source": [
    "def fact(x):\n",
    "    if x==0:\n",
    "        return 1\n",
    "    return  x * (x-1)"
   ]
  },
  {
   "cell_type": "code",
   "execution_count": 11,
   "metadata": {},
   "outputs": [
    {
     "name": "stdout",
     "output_type": "stream",
     "text": [
      "8\n",
      "56\n"
     ]
    }
   ],
   "source": [
    "x= int(input())\n",
    "print(fact(x))"
   ]
  },
  {
   "cell_type": "code",
   "execution_count": null,
   "metadata": {},
   "outputs": [],
   "source": [
    "n = int(input('Enter a number:'))\n",
    "fact = n\n",
    "for i in range (1,n):\n",
    "    fact = fact * (n-i)\n",
    "\t     #i=i+1\n",
    "print ('fact :' , fact)"
   ]
  },
  {
   "cell_type": "code",
   "execution_count": null,
   "metadata": {},
   "outputs": [],
   "source": [
    "n = int(input('Please enter Max Key Value ,'))\n",
    "print ('key Value Choosed :' ,n)\n",
    "d = dict []\n",
    "for i in  (1,n):\n",
    "    d[i] = i*i\n",
    "print (i,d[i])\t"
   ]
  },
  {
   "cell_type": "code",
   "execution_count": 4,
   "metadata": {},
   "outputs": [
    {
     "name": "stdout",
     "output_type": "stream",
     "text": [
      "1\n",
      "<class 'int'>\n",
      "Hello Shobhit\n",
      "<class 'str'>\n"
     ]
    }
   ],
   "source": [
    "Num1 = 1\n",
    "Num2 = 'Hello Shobhit'\n",
    "print(Num1)\n",
    "print(type(Num1))\n",
    "print(Num2)\n",
    "print(type(Num2))"
   ]
  },
  {
   "cell_type": "code",
   "execution_count": 9,
   "metadata": {},
   "outputs": [
    {
     "name": "stdout",
     "output_type": "stream",
     "text": [
      "1675652160\n",
      "2145908153712\n"
     ]
    }
   ],
   "source": [
    "Num1 = 1\n",
    "Num2 = 'Hello Shobhit'\n",
    "# Id is same as of Rowid in SQL\n",
    "print (id(Num1))\n",
    "print (id(Num2))"
   ]
  },
  {
   "cell_type": "code",
   "execution_count": 14,
   "metadata": {},
   "outputs": [
    {
     "name": "stdout",
     "output_type": "stream",
     "text": [
      "[10, 20, 30] 2145908153800\n"
     ]
    }
   ],
   "source": [
    "l=[10,20,30]\n",
    "l\n",
    "l,id(l)\n",
    "print(l,id(l))"
   ]
  },
  {
   "cell_type": "code",
   "execution_count": 16,
   "metadata": {},
   "outputs": [
    {
     "name": "stdout",
     "output_type": "stream",
     "text": [
      "3\n"
     ]
    }
   ],
   "source": [
    "a=b=c=3\n",
    "print(b)"
   ]
  },
  {
   "cell_type": "markdown",
   "metadata": {},
   "source": [
    "## Dictonary\n",
    "\n",
    "        > - Mutable - Add update and delete \n",
    "        > - Unordered - not support indexing and slicing \n",
    "        > - All the keys should be unique\n",
    "        > - All the keys should be immutable - int,float,str,tuple \n",
    "        \n",
    "        In case of duplicate keys it the last key overrides the previous key\n"
   ]
  },
  {
   "cell_type": "code",
   "execution_count": 136,
   "metadata": {},
   "outputs": [
    {
     "data": {
      "text/plain": [
       "{'Name': 'Shobhit', 'Age': 20}"
      ]
     },
     "execution_count": 136,
     "metadata": {},
     "output_type": "execute_result"
    }
   ],
   "source": [
    "dict1 ={\"Name\":'Shobhit','Age':20}\n",
    "dict1"
   ]
  },
  {
   "cell_type": "code",
   "execution_count": 139,
   "metadata": {},
   "outputs": [
    {
     "name": "stdout",
     "output_type": "stream",
     "text": [
      "{'Name': 'Shobhit', 'Age': 30}\n"
     ]
    }
   ],
   "source": [
    "dict1 ={\"Name\":'Shobhit','Age':20, 'Age':30}\n",
    "dict1\n",
    "print(dict1)\n",
    "\n",
    "# In this case Age is duplicate key and last key : value is Age:30 and it overridden Age:20"
   ]
  },
  {
   "cell_type": "code",
   "execution_count": 141,
   "metadata": {},
   "outputs": [
    {
     "name": "stdout",
     "output_type": "stream",
     "text": [
      "Shobhit\n"
     ]
    },
    {
     "data": {
      "text/plain": [
       "30"
      ]
     },
     "execution_count": 141,
     "metadata": {},
     "output_type": "execute_result"
    }
   ],
   "source": [
    "print(dict1['Name'])\n",
    "dict1['Age']\n",
    "\n",
    "# Printing Value based on Key passed"
   ]
  },
  {
   "cell_type": "code",
   "execution_count": 144,
   "metadata": {},
   "outputs": [
    {
     "data": {
      "text/plain": [
       "dict_keys(['Name', 'Age'])"
      ]
     },
     "execution_count": 144,
     "metadata": {},
     "output_type": "execute_result"
    }
   ],
   "source": [
    "# print All Keys\n",
    "\n",
    "dict1.keys()"
   ]
  },
  {
   "cell_type": "code",
   "execution_count": 145,
   "metadata": {},
   "outputs": [
    {
     "data": {
      "text/plain": [
       "dict_values(['Shobhit', 30])"
      ]
     },
     "execution_count": 145,
     "metadata": {},
     "output_type": "execute_result"
    }
   ],
   "source": [
    "# print all values \n",
    "\n",
    "dict1.values()"
   ]
  },
  {
   "cell_type": "code",
   "execution_count": 148,
   "metadata": {},
   "outputs": [
    {
     "name": "stdout",
     "output_type": "stream",
     "text": [
      "This Key is not defined\n"
     ]
    },
    {
     "data": {
      "text/plain": [
       "'This Key is not defined'"
      ]
     },
     "execution_count": 148,
     "metadata": {},
     "output_type": "execute_result"
    }
   ],
   "source": [
    "# get function is like of exception handling, if user passed wrong key to find value , one can customize message\n",
    "\n",
    "print(dict1.get('Address','This Key is not defined'))\n",
    "dict1.get('Address','This Key is not defined')"
   ]
  },
  {
   "cell_type": "code",
   "execution_count": 157,
   "metadata": {},
   "outputs": [
    {
     "data": {
      "text/plain": [
       "{'Name': 'Shobhit', 'Age': 30, 'Address': None}"
      ]
     },
     "execution_count": 157,
     "metadata": {},
     "output_type": "execute_result"
    }
   ],
   "source": [
    "dict1.setdefault('Address')\n",
    "dict1"
   ]
  },
  {
   "cell_type": "code",
   "execution_count": 158,
   "metadata": {},
   "outputs": [
    {
     "data": {
      "text/plain": [
       "{'Name': 'Shobhit', 'Age': 30, 'Address': 'Delhi'}"
      ]
     },
     "execution_count": 158,
     "metadata": {},
     "output_type": "execute_result"
    }
   ],
   "source": [
    "dict1['Address'] =  'Delhi'\n",
    "dict1"
   ]
  },
  {
   "cell_type": "code",
   "execution_count": 109,
   "metadata": {},
   "outputs": [
    {
     "name": "stdout",
     "output_type": "stream",
     "text": [
      "{0: 0, 1: 1, 2: 4, 3: 9, 4: 16, 5: 25, 6: 36, 7: 49, 8: 64, 9: 81}\n"
     ]
    }
   ],
   "source": [
    "# Prorgam to print Squares in form of dictionary\n",
    "\n",
    "d={}\n",
    "for i in range (0,10):\n",
    "    d.setdefault(i,i**2)\n",
    "print(d)"
   ]
  },
  {
   "cell_type": "code",
   "execution_count": 172,
   "metadata": {},
   "outputs": [
    {
     "name": "stdout",
     "output_type": "stream",
     "text": [
      "{1: 3, 2: 6, 3: 9, 4: 12, 5: 15, 6: 18, 7: 21, 8: 24, 9: 27, 10: 30}\n",
      "dict_keys([1, 2, 3, 4, 5, 6, 7, 8, 9, 10])\n",
      "dict_values([3, 6, 9, 12, 15, 18, 21, 24, 27, 30])\n",
      "dict_items([(1, 3), (2, 6), (3, 9), (4, 12), (5, 15), (6, 18), (7, 21), (8, 24), (9, 27), (10, 30)])\n"
     ]
    }
   ],
   "source": [
    "d={}\n",
    "for i in range(1,11):\n",
    "    d.setdefault(i,3*i)\n",
    "print(d)\n",
    "print(d.keys())\n",
    "print(d.values())\n",
    "print(d.items())"
   ]
  },
  {
   "cell_type": "code",
   "execution_count": 110,
   "metadata": {},
   "outputs": [
    {
     "name": "stdout",
     "output_type": "stream",
     "text": [
      "Name of students failed:\n",
      "mark,Brian,"
     ]
    }
   ],
   "source": [
    "# Prorgam to iterate Dict\n",
    "\n",
    "s1 = {'Jack':80,'mark':35,\"Andy\":65,\"Brian\":39,\"Rob\": 50}\n",
    "passmarks = 40\n",
    "print ('Name of students failed:')\n",
    "for k,v in s1.items():\n",
    "    if v < passmarks:\n",
    "        print(k, end = ',')\n"
   ]
  },
  {
   "cell_type": "code",
   "execution_count": 28,
   "metadata": {},
   "outputs": [],
   "source": [
    "#####   defaultdict *********************** ADded this "
   ]
  },
  {
   "cell_type": "markdown",
   "metadata": {},
   "source": [
    "## Zip () function\n",
    "       It Zips 2 lists and returns Tuple \n",
    "       \n",
    "       Case when 2 lists doesnt have same length it considers the final concatenation tuple with length of shortest List  "
   ]
  },
  {
   "cell_type": "code",
   "execution_count": 111,
   "metadata": {},
   "outputs": [
    {
     "name": "stdout",
     "output_type": "stream",
     "text": [
      "(1, 'a')\n",
      "(2, 'b')\n",
      "(3, 'c')\n",
      "(4, 'd')\n"
     ]
    }
   ],
   "source": [
    "l1=[1,2,3,4]\n",
    "l2=['a','b','c','d']\n",
    "\n",
    "for i in zip(l1,l2):\n",
    "\n",
    "    \n",
    "    print(i)"
   ]
  },
  {
   "cell_type": "code",
   "execution_count": 114,
   "metadata": {},
   "outputs": [
    {
     "name": "stdout",
     "output_type": "stream",
     "text": [
      "(1, 'a')\n",
      "(2, 'b')\n",
      "(3, 'c')\n",
      "(4, 'd')\n"
     ]
    }
   ],
   "source": [
    "# ZIP() considerd only starting 4 elements and left 5 since othe rlist have just 4 elements\n",
    "\n",
    "l1=[1,2,3,4,5]\n",
    "l2=['a','b','c','d']\n",
    "\n",
    "for i in zip(l1,l2):\n",
    "    print(i)"
   ]
  },
  {
   "cell_type": "markdown",
   "metadata": {},
   "source": [
    "### Pop -- Removes the Key value pair for the Key passed in Function pop\n",
    "### PopItem-- Removes the last Key value pair\n",
    "### Clear() -- Clears the dictionary and returns empty Dictionary\n",
    "### del() --  It deletes the structure of dictionary and clears memory allocated to dictionary"
   ]
  },
  {
   "cell_type": "code",
   "execution_count": 182,
   "metadata": {},
   "outputs": [
    {
     "name": "stdout",
     "output_type": "stream",
     "text": [
      "{'Age': '30', 'Sex': 'Male', 'Address': 'Delhi'}\n",
      "Shobhit\n"
     ]
    }
   ],
   "source": [
    "d1 = {\"Name\":\"Shobhit\",\"Age\":\"30\",\"Sex\":\"Male\",\"Address\":\"Delhi\"}\n",
    "r = d1.pop(\"Name\")\n",
    "print(d1)\n",
    "print(r)"
   ]
  },
  {
   "cell_type": "code",
   "execution_count": 183,
   "metadata": {},
   "outputs": [
    {
     "name": "stdout",
     "output_type": "stream",
     "text": [
      "{'Age': '30', 'Sex': 'Male', 'Address': 'Delhi'}\n"
     ]
    }
   ],
   "source": [
    "print(d1)"
   ]
  },
  {
   "cell_type": "code",
   "execution_count": 185,
   "metadata": {},
   "outputs": [
    {
     "data": {
      "text/plain": [
       "('Address', 'Delhi')"
      ]
     },
     "execution_count": 185,
     "metadata": {},
     "output_type": "execute_result"
    }
   ],
   "source": [
    "r1=d1.popitem()\n",
    "r1"
   ]
  },
  {
   "cell_type": "code",
   "execution_count": 186,
   "metadata": {},
   "outputs": [
    {
     "data": {
      "text/plain": [
       "{'Age': '30', 'Sex': 'Male'}"
      ]
     },
     "execution_count": 186,
     "metadata": {},
     "output_type": "execute_result"
    }
   ],
   "source": [
    "d1"
   ]
  },
  {
   "cell_type": "code",
   "execution_count": 191,
   "metadata": {},
   "outputs": [
    {
     "data": {
      "text/plain": [
       "{}"
      ]
     },
     "execution_count": 191,
     "metadata": {},
     "output_type": "execute_result"
    }
   ],
   "source": [
    "# Clears the dictionary and returns empty Dictionary\n",
    "d1.clear()\n",
    "d1"
   ]
  },
  {
   "cell_type": "code",
   "execution_count": 197,
   "metadata": {},
   "outputs": [],
   "source": [
    "d2={\"Name\":'Shobhit',\"Age\":'30'}"
   ]
  },
  {
   "cell_type": "code",
   "execution_count": 198,
   "metadata": {},
   "outputs": [],
   "source": [
    "d2\n",
    "del d2"
   ]
  },
  {
   "cell_type": "code",
   "execution_count": 199,
   "metadata": {},
   "outputs": [
    {
     "ename": "NameError",
     "evalue": "name 'd2' is not defined",
     "output_type": "error",
     "traceback": [
      "\u001b[1;31m---------------------------------------------------------------------------\u001b[0m",
      "\u001b[1;31mNameError\u001b[0m                                 Traceback (most recent call last)",
      "\u001b[1;32m<ipython-input-199-fe1ba9d06821>\u001b[0m in \u001b[0;36m<module>\u001b[1;34m()\u001b[0m\n\u001b[1;32m----> 1\u001b[1;33m \u001b[0md2\u001b[0m\u001b[1;33m\u001b[0m\u001b[0m\n\u001b[0m",
      "\u001b[1;31mNameError\u001b[0m: name 'd2' is not defined"
     ]
    }
   ],
   "source": [
    "d2"
   ]
  },
  {
   "cell_type": "markdown",
   "metadata": {},
   "source": [
    "## Set \n",
    "        < Mutable => add,update and delete\n",
    "        < Unordered => no indexing and slicing\n",
    "        < Internally sets are implementated as Dict with None value\n",
    "        < All elements in set should be unique\n",
    "        < Datatype of all elements shold be immutable"
   ]
  },
  {
   "cell_type": "code",
   "execution_count": 201,
   "metadata": {},
   "outputs": [
    {
     "name": "stdout",
     "output_type": "stream",
     "text": [
      "<class 'set'>\n"
     ]
    }
   ],
   "source": [
    "s = {10,20,30,40,50}\n",
    "print(type(s))\n"
   ]
  },
  {
   "cell_type": "code",
   "execution_count": 202,
   "metadata": {},
   "outputs": [
    {
     "name": "stdout",
     "output_type": "stream",
     "text": [
      "<class 'set'>\n"
     ]
    }
   ],
   "source": [
    "s1 = set()\n",
    "print(type(s1))"
   ]
  },
  {
   "cell_type": "code",
   "execution_count": 204,
   "metadata": {},
   "outputs": [
    {
     "data": {
      "text/plain": [
       "{1, 2, 3, 4, 5}"
      ]
     },
     "execution_count": 204,
     "metadata": {},
     "output_type": "execute_result"
    }
   ],
   "source": [
    "# only Unique Values -- removed one occurance of 4\n",
    "s1={1,2,3,4,5,4}\n",
    "s1"
   ]
  },
  {
   "cell_type": "markdown",
   "metadata": {},
   "source": [
    "### Set in python follows same architecture as of Maths Stes\n",
    "        You can perform Union, intersection, Minus and all other Sets operation "
   ]
  },
  {
   "cell_type": "code",
   "execution_count": 207,
   "metadata": {},
   "outputs": [
    {
     "name": "stdout",
     "output_type": "stream",
     "text": [
      "{70, 40, 10, 80, 50, 20, 90, 60, 30}\n"
     ]
    },
    {
     "data": {
      "text/plain": [
       "{10, 20, 30, 40, 50, 60, 70, 80, 90}"
      ]
     },
     "execution_count": 207,
     "metadata": {},
     "output_type": "execute_result"
    }
   ],
   "source": [
    "## union returns Unique values from all different Sets\n",
    "\n",
    "s1 = {10,20,30,40,50,60}\n",
    "s2 = {40,50,60,70,80,90}\n",
    "\n",
    "s3 = s1.union(s2)\n",
    "print(s3)\n",
    "s3"
   ]
  },
  {
   "cell_type": "code",
   "execution_count": 208,
   "metadata": {},
   "outputs": [
    {
     "data": {
      "text/plain": [
       "{10, 20, 30, 40, 50, 60, 70, 80, 90}"
      ]
     },
     "execution_count": 208,
     "metadata": {},
     "output_type": "execute_result"
    }
   ],
   "source": [
    "s1.update(s2)\n",
    "s1"
   ]
  },
  {
   "cell_type": "code",
   "execution_count": 209,
   "metadata": {},
   "outputs": [
    {
     "name": "stdout",
     "output_type": "stream",
     "text": [
      "{10, 20, 30}\n"
     ]
    },
    {
     "data": {
      "text/plain": [
       "{10, 20, 30}"
      ]
     },
     "execution_count": 209,
     "metadata": {},
     "output_type": "execute_result"
    }
   ],
   "source": [
    "s3 = s1.symmetric_difference(s2)\n",
    "print(s3)\n",
    "s3"
   ]
  },
  {
   "cell_type": "code",
   "execution_count": null,
   "metadata": {},
   "outputs": [],
   "source": [
    "# s3 = s1.intersection(s2)\n",
    "# print(s3)\n",
    "\n",
    "# s1.intersection_update(s2)\n",
    "# print(s1)\n",
    "\n",
    "# s3 = s1.difference(s2)\n",
    "# print(s3)\n",
    "\n",
    "\n",
    "# s3 = s2.difference(s1)\n",
    "# print(s3)\n",
    "\n",
    "# s1.difference_update(s2)\n",
    "# print(s1)\n",
    "\n",
    "# s3 = s1.symmetric_difference(s2)\n",
    "# print(s3)\n",
    "\n",
    "# s1.symmetric_difference_update(s2)\n",
    "# print(s1)\n",
    "\n",
    "# s3 = {10,20}\n",
    "\n",
    "# print(s3.issubset(s1))\n",
    "# print(s1.issuperset(s3))"
   ]
  },
  {
   "cell_type": "code",
   "execution_count": 21,
   "metadata": {},
   "outputs": [
    {
     "data": {
      "text/plain": [
       "{1, 2, 3, 4}"
      ]
     },
     "execution_count": 21,
     "metadata": {},
     "output_type": "execute_result"
    }
   ],
   "source": [
    "se ={1,2,3,4}\n",
    "se"
   ]
  },
  {
   "cell_type": "code",
   "execution_count": 26,
   "metadata": {},
   "outputs": [
    {
     "data": {
      "text/plain": [
       "{1, 2, 3, 4, 'Hi'}"
      ]
     },
     "execution_count": 26,
     "metadata": {},
     "output_type": "execute_result"
    }
   ],
   "source": [
    "se = {1,2,3,4,'Hi',4}\n",
    "se"
   ]
  },
  {
   "cell_type": "code",
   "execution_count": 31,
   "metadata": {},
   "outputs": [
    {
     "data": {
      "text/plain": [
       "{1, 2, 23, 3, 341, 4, 7, 'Hey'}"
      ]
     },
     "execution_count": 31,
     "metadata": {},
     "output_type": "execute_result"
    }
   ],
   "source": [
    "# if string is also passed in Set, it will consider set as string, \n",
    "#hence ordering of items are different, and printing 23 before 3\n",
    "\n",
    "se={2,3,1,4,2,1,2,'Hey',341,23,7}\n",
    "se"
   ]
  },
  {
   "cell_type": "code",
   "execution_count": 32,
   "metadata": {},
   "outputs": [
    {
     "data": {
      "text/plain": [
       "{1, 2, 3, 4, 7, 23, 341}"
      ]
     },
     "execution_count": 32,
     "metadata": {},
     "output_type": "execute_result"
    }
   ],
   "source": [
    "# in This case only integers hence integers are rerranged\n",
    "se={2,3,1,4,2,1,2,341,23,7}\n",
    "se"
   ]
  },
  {
   "cell_type": "markdown",
   "metadata": {},
   "source": [
    "## Misclaneous"
   ]
  },
  {
   "cell_type": "code",
   "execution_count": 33,
   "metadata": {},
   "outputs": [
    {
     "name": "stdout",
     "output_type": "stream",
     "text": [
      "2\n"
     ]
    }
   ],
   "source": [
    "l=[1,2,3,4]\n",
    "print (l[1])"
   ]
  },
  {
   "cell_type": "code",
   "execution_count": 36,
   "metadata": {},
   "outputs": [
    {
     "name": "stdout",
     "output_type": "stream",
     "text": [
      "My name is Shobhit, and age is 31\n"
     ]
    }
   ],
   "source": [
    "name,age ='Shobhit', 31\n",
    "print (f\"My name is {name}, and age is {age}\")"
   ]
  },
  {
   "cell_type": "code",
   "execution_count": 21,
   "metadata": {},
   "outputs": [
    {
     "name": "stdout",
     "output_type": "stream",
     "text": [
      "15 *  1 = 15\n",
      "15 *  2 = 30\n",
      "15 *  3 = 45\n",
      "15 *  4 = 60\n",
      "15 *  5 = 75\n",
      "15 *  6 = 90\n",
      "15 *  7 = 105\n",
      "15 *  8 = 120\n",
      "15 *  9 = 135\n",
      "15 *  10 = 150\n"
     ]
    }
   ],
   "source": [
    "for i in range (1,11):\n",
    "    print('15 * ',i , '=' , 15*i)"
   ]
  },
  {
   "cell_type": "code",
   "execution_count": 115,
   "metadata": {},
   "outputs": [
    {
     "name": "stdout",
     "output_type": "stream",
     "text": [
      "range(0, 100, 2)\n"
     ]
    }
   ],
   "source": [
    "a=range(0,100,2)\n",
    "print(a)"
   ]
  },
  {
   "cell_type": "code",
   "execution_count": 24,
   "metadata": {},
   "outputs": [
    {
     "name": "stdout",
     "output_type": "stream",
     "text": [
      "range(0, 7)\n"
     ]
    }
   ],
   "source": [
    "print(range(7))"
   ]
  },
  {
   "cell_type": "code",
   "execution_count": 116,
   "metadata": {},
   "outputs": [
    {
     "data": {
      "text/plain": [
       "[0, 2, 4, 6, 8, 10, 12, 14, 16, 18]"
      ]
     },
     "execution_count": 116,
     "metadata": {},
     "output_type": "execute_result"
    }
   ],
   "source": [
    "a=list(range(0,20,2))\n",
    "a"
   ]
  },
  {
   "cell_type": "code",
   "execution_count": 34,
   "metadata": {},
   "outputs": [
    {
     "data": {
      "text/plain": [
       "[0, 1, 2, 3, 4, 5, 6, 7, 8, 9, 0, 1, 2, 3, 4, 5, 6, 7, 8, 9]"
      ]
     },
     "execution_count": 34,
     "metadata": {},
     "output_type": "execute_result"
    }
   ],
   "source": [
    "a= list(range(10))\n",
    "b=a+a\n",
    "b"
   ]
  },
  {
   "cell_type": "code",
   "execution_count": 117,
   "metadata": {},
   "outputs": [
    {
     "name": "stdout",
     "output_type": "stream",
     "text": [
      "(1, 2, 3)\n",
      "(2, 3, 4)\n",
      "(3, 4, 5)\n"
     ]
    }
   ],
   "source": [
    "for i in zip([1,2,3],[2,3,4],[3,4,5]):\n",
    "    print(i)"
   ]
  },
  {
   "cell_type": "code",
   "execution_count": 41,
   "metadata": {},
   "outputs": [
    {
     "name": "stdout",
     "output_type": "stream",
     "text": [
      "(1, 2, 3, 5)\n",
      "(2, 3, 4, 6)\n"
     ]
    }
   ],
   "source": [
    "for i in zip([1,2,3],[2,3,4],[3,4,5],[5,6]):\n",
    "    print(i)"
   ]
  },
  {
   "cell_type": "markdown",
   "metadata": {},
   "source": [
    "# List"
   ]
  },
  {
   "cell_type": "code",
   "execution_count": 119,
   "metadata": {},
   "outputs": [
    {
     "name": "stdout",
     "output_type": "stream",
     "text": [
      "[1, 2, 3, 4]\n"
     ]
    }
   ],
   "source": [
    "lst= [1,2,3,4]\n",
    "print (lst)"
   ]
  },
  {
   "cell_type": "code",
   "execution_count": 118,
   "metadata": {},
   "outputs": [
    {
     "ename": "NameError",
     "evalue": "name 'lst' is not defined",
     "output_type": "error",
     "traceback": [
      "\u001b[1;31m---------------------------------------------------------------------------\u001b[0m",
      "\u001b[1;31mNameError\u001b[0m                                 Traceback (most recent call last)",
      "\u001b[1;32m<ipython-input-118-d08327993c85>\u001b[0m in \u001b[0;36m<module>\u001b[1;34m\u001b[0m\n\u001b[1;32m----> 1\u001b[1;33m \u001b[0mlst\u001b[0m\u001b[1;33m[\u001b[0m\u001b[1;36m1\u001b[0m\u001b[1;33m:\u001b[0m\u001b[1;36m3\u001b[0m\u001b[1;33m]\u001b[0m\u001b[1;33m\u001b[0m\u001b[1;33m\u001b[0m\u001b[0m\n\u001b[0m",
      "\u001b[1;31mNameError\u001b[0m: name 'lst' is not defined"
     ]
    }
   ],
   "source": [
    "lst[1:3]"
   ]
  },
  {
   "cell_type": "code",
   "execution_count": 46,
   "metadata": {},
   "outputs": [
    {
     "data": {
      "text/plain": [
       "[]"
      ]
     },
     "execution_count": 46,
     "metadata": {},
     "output_type": "execute_result"
    }
   ],
   "source": [
    "lst[-1:2]"
   ]
  },
  {
   "cell_type": "code",
   "execution_count": 49,
   "metadata": {},
   "outputs": [
    {
     "data": {
      "text/plain": [
       "[1, 2, 3, 4, 6, 6, 6]"
      ]
     },
     "execution_count": 49,
     "metadata": {},
     "output_type": "execute_result"
    }
   ],
   "source": [
    "lst.append(6)\n",
    "lst"
   ]
  },
  {
   "cell_type": "code",
   "execution_count": 50,
   "metadata": {},
   "outputs": [
    {
     "data": {
      "text/plain": [
       "[1, 2, 8, 4, 6, 6, 6]"
      ]
     },
     "execution_count": 50,
     "metadata": {},
     "output_type": "execute_result"
    }
   ],
   "source": [
    "lst[2]=8\n",
    "lst"
   ]
  },
  {
   "cell_type": "code",
   "execution_count": 51,
   "metadata": {},
   "outputs": [
    {
     "data": {
      "text/plain": [
       "[1, 2, 8, 5, 4, 6, 6, 6]"
      ]
     },
     "execution_count": 51,
     "metadata": {},
     "output_type": "execute_result"
    }
   ],
   "source": [
    "lst.insert(3,5)\n",
    "lst"
   ]
  },
  {
   "cell_type": "code",
   "execution_count": 56,
   "metadata": {},
   "outputs": [
    {
     "data": {
      "text/plain": [
       "[1, 2, 8, 5, 4, 6, 6, 6]"
      ]
     },
     "execution_count": 56,
     "metadata": {},
     "output_type": "execute_result"
    }
   ],
   "source": [
    "lst.pop\n",
    "lst"
   ]
  },
  {
   "cell_type": "code",
   "execution_count": 57,
   "metadata": {},
   "outputs": [
    {
     "ename": "SyntaxError",
     "evalue": "can't delete function call (<ipython-input-57-5ce677972115>, line 1)",
     "output_type": "error",
     "traceback": [
      "\u001b[1;36m  File \u001b[1;32m\"<ipython-input-57-5ce677972115>\"\u001b[1;36m, line \u001b[1;32m1\u001b[0m\n\u001b[1;33m    del lst(2)\u001b[0m\n\u001b[1;37m       ^\u001b[0m\n\u001b[1;31mSyntaxError\u001b[0m\u001b[1;31m:\u001b[0m can't delete function call\n"
     ]
    }
   ],
   "source": [
    "del lst(2)\n",
    "lst"
   ]
  },
  {
   "cell_type": "code",
   "execution_count": 58,
   "metadata": {},
   "outputs": [
    {
     "data": {
      "text/plain": [
       "16"
      ]
     },
     "execution_count": 58,
     "metadata": {},
     "output_type": "execute_result"
    }
   ],
   "source": [
    "lst = [12,23,24,34,3,4,5,678,89,42,23,32,45,23,34,5]\n",
    "len(lst)"
   ]
  },
  {
   "cell_type": "code",
   "execution_count": 62,
   "metadata": {},
   "outputs": [
    {
     "name": "stdout",
     "output_type": "stream",
     "text": [
      "23, 24, 34, 3, 4, 5, 678, 89, 42, 23, 32, 45, 23, 34, 5, "
     ]
    }
   ],
   "source": [
    "for i in lst[1:len(lst)]:\n",
    "    print(i, end = ', ')"
   ]
  },
  {
   "cell_type": "code",
   "execution_count": 63,
   "metadata": {},
   "outputs": [
    {
     "data": {
      "text/plain": [
       "int"
      ]
     },
     "execution_count": 63,
     "metadata": {},
     "output_type": "execute_result"
    }
   ],
   "source": [
    "a=(1)\n",
    "type(a)"
   ]
  },
  {
   "cell_type": "code",
   "execution_count": 64,
   "metadata": {},
   "outputs": [
    {
     "data": {
      "text/plain": [
       "tuple"
      ]
     },
     "execution_count": 64,
     "metadata": {},
     "output_type": "execute_result"
    }
   ],
   "source": [
    "b=(1,)\n",
    "type(b)"
   ]
  },
  {
   "cell_type": "code",
   "execution_count": 65,
   "metadata": {},
   "outputs": [
    {
     "data": {
      "text/plain": [
       "{1, 2, 3, 4, 5, 6}"
      ]
     },
     "execution_count": 65,
     "metadata": {},
     "output_type": "execute_result"
    }
   ],
   "source": [
    "a={1,2,3,4,4,5,6}\n",
    "a"
   ]
  },
  {
   "cell_type": "code",
   "execution_count": 66,
   "metadata": {},
   "outputs": [
    {
     "data": {
      "text/plain": [
       "{1, 2, 3, 4, 'Hi'}"
      ]
     },
     "execution_count": 66,
     "metadata": {},
     "output_type": "execute_result"
    }
   ],
   "source": [
    "a={1,2,3,4,'Hi'}\n",
    "a"
   ]
  },
  {
   "cell_type": "code",
   "execution_count": 69,
   "metadata": {},
   "outputs": [
    {
     "data": {
      "text/plain": [
       "{1, 2, 3, 4, 5, 6, 7, 'Hey', 'Hi', 'apple'}"
      ]
     },
     "execution_count": 69,
     "metadata": {},
     "output_type": "execute_result"
    }
   ],
   "source": [
    "b={1,2,3,2,4,6,5,7,'Hey','apple','Hi'}\n",
    "b"
   ]
  },
  {
   "cell_type": "code",
   "execution_count": 70,
   "metadata": {},
   "outputs": [
    {
     "data": {
      "text/plain": [
       "{1, 2, 3, 4, 5, 6, 7, 'apple', 'hey', 'hi'}"
      ]
     },
     "execution_count": 70,
     "metadata": {},
     "output_type": "execute_result"
    }
   ],
   "source": [
    "c={1,2,3,2,4,6,5,7,'hey','apple','hi'}\n",
    "c"
   ]
  },
  {
   "cell_type": "code",
   "execution_count": 75,
   "metadata": {},
   "outputs": [
    {
     "data": {
      "text/plain": [
       "{1: 6, 2: 8, 3: 4}"
      ]
     },
     "execution_count": 75,
     "metadata": {},
     "output_type": "execute_result"
    }
   ],
   "source": [
    "dict ={1:2,2:3,3:4,1:4,1:6,2:8}\n",
    "dict"
   ]
  },
  {
   "cell_type": "code",
   "execution_count": 76,
   "metadata": {},
   "outputs": [
    {
     "data": {
      "text/plain": [
       "{1, 2, 3, 4, 5, 6, 7, 'Hey', 'Hi', 'apple'}"
      ]
     },
     "execution_count": 76,
     "metadata": {},
     "output_type": "execute_result"
    }
   ],
   "source": [
    "b"
   ]
  },
  {
   "cell_type": "code",
   "execution_count": 81,
   "metadata": {},
   "outputs": [],
   "source": [
    "c.add(10)"
   ]
  },
  {
   "cell_type": "code",
   "execution_count": 82,
   "metadata": {},
   "outputs": [
    {
     "data": {
      "text/plain": [
       "{1, 10, 2, 3, 4, 5, 6, 7, 'apple', 'hey', 'hi'}"
      ]
     },
     "execution_count": 82,
     "metadata": {},
     "output_type": "execute_result"
    }
   ],
   "source": [
    "c"
   ]
  },
  {
   "cell_type": "code",
   "execution_count": 83,
   "metadata": {},
   "outputs": [
    {
     "data": {
      "text/plain": [
       "{1, 10, 15, 2, 3, 4, 5, 6, 7, 'apple', 'hey', 'hi'}"
      ]
     },
     "execution_count": 83,
     "metadata": {},
     "output_type": "execute_result"
    }
   ],
   "source": [
    "c.add(15)\n",
    "c"
   ]
  },
  {
   "cell_type": "code",
   "execution_count": 84,
   "metadata": {},
   "outputs": [
    {
     "data": {
      "text/plain": [
       "{1, 10, 15, 2, 3, 4, 5, 6, 7, 'apple', 'hey', 'hi'}"
      ]
     },
     "execution_count": 84,
     "metadata": {},
     "output_type": "execute_result"
    }
   ],
   "source": [
    "c"
   ]
  },
  {
   "cell_type": "code",
   "execution_count": 85,
   "metadata": {},
   "outputs": [
    {
     "data": {
      "text/plain": [
       "[['Hindi', 'english'], 'math', ['Spainish', 'Russian'], 1, 2, 3]"
      ]
     },
     "execution_count": 85,
     "metadata": {},
     "output_type": "execute_result"
    }
   ],
   "source": [
    "lang = [['Hindi','english'],'math',['Spainish','Russian'], 1,2,3]\n",
    "lang"
   ]
  },
  {
   "cell_type": "code",
   "execution_count": 86,
   "metadata": {},
   "outputs": [
    {
     "data": {
      "text/plain": [
       "list"
      ]
     },
     "execution_count": 86,
     "metadata": {},
     "output_type": "execute_result"
    }
   ],
   "source": [
    "type(lang)"
   ]
  },
  {
   "cell_type": "code",
   "execution_count": 87,
   "metadata": {},
   "outputs": [
    {
     "name": "stdout",
     "output_type": "stream",
     "text": [
      "<class 'list'>\n"
     ]
    }
   ],
   "source": [
    "print(type(lang))"
   ]
  },
  {
   "cell_type": "code",
   "execution_count": 88,
   "metadata": {},
   "outputs": [
    {
     "data": {
      "text/plain": [
       "[['My', 'Name'],\n",
       " ('Shobhit', 'Sharma'),\n",
       " 'Raj',\n",
       " 'Dheeraj',\n",
       " ['Ram', 'jai'],\n",
       " 'Peeter']"
      ]
     },
     "execution_count": 88,
     "metadata": {},
     "output_type": "execute_result"
    }
   ],
   "source": [
    "lang1 =[['My','Name'],('Shobhit','Sharma'),'Raj','Dheeraj',['Ram','jai'],('Peeter')]\n",
    "lang1"
   ]
  },
  {
   "cell_type": "code",
   "execution_count": 2,
   "metadata": {},
   "outputs": [
    {
     "data": {
      "text/plain": [
       "[['My', 'Name'],\n",
       " ('Shobhit', 'Sharma'),\n",
       " 'Raj',\n",
       " 'Dheeraj',\n",
       " ['Ram', 'jai'],\n",
       " 'Peeter',\n",
       " {1, 2, 3},\n",
       " {'Name': 'SHobhit', 'Age': 30}]"
      ]
     },
     "execution_count": 2,
     "metadata": {},
     "output_type": "execute_result"
    }
   ],
   "source": [
    "#  A list may conatin Anything,like Tuples, strings, dict, Sets any thing \n",
    "lang2 =[['My','Name'],('Shobhit','Sharma'),'Raj','Dheeraj',['Ram','jai'],\n",
    "            'Peeter',{1,2,3},{'Name':'SHobhit','Age':30}]\n",
    "lang2"
   ]
  },
  {
   "cell_type": "code",
   "execution_count": 97,
   "metadata": {},
   "outputs": [
    {
     "data": {
      "text/plain": [
       "('Shobhit', 'Sharma')"
      ]
     },
     "execution_count": 97,
     "metadata": {},
     "output_type": "execute_result"
    }
   ],
   "source": [
    "lang2[1]"
   ]
  },
  {
   "cell_type": "code",
   "execution_count": 110,
   "metadata": {},
   "outputs": [
    {
     "name": "stdout",
     "output_type": "stream",
     "text": [
      "<class 'list'> ['My', 'Name']\n",
      "<class 'tuple'> ('Shobhit', 'Sharma')\n",
      "<class 'str'> Raj\n",
      "<class 'set'> {1, 2, 3}\n",
      "<class 'dict'> {'Name': 'SHobhit', 'Age': 30}\n"
     ]
    }
   ],
   "source": [
    "a=type(lang2[0])\n",
    "b=type(lang2[1])\n",
    "c=type(lang2[2])\n",
    "d=type(lang2[-2])\n",
    "e=type(lang2[-1])\n",
    "print(a, lang2[0])\n",
    "print(b, lang2[1])\n",
    "print(c ,lang2[2])\n",
    "print(d,lang2[-2])\n",
    "print(e, lang2[-1])"
   ]
  },
  {
   "cell_type": "code",
   "execution_count": 111,
   "metadata": {},
   "outputs": [
    {
     "data": {
      "text/plain": [
       "[['My', 'Pet'],\n",
       " ('Shobhit', 'Sharma'),\n",
       " 'Raj',\n",
       " 'Dheeraj',\n",
       " ['Ram', 'jai'],\n",
       " 'Peeter',\n",
       " {1, 2, 3},\n",
       " {'Name': 'SHobhit', 'Age': 30}]"
      ]
     },
     "execution_count": 111,
     "metadata": {},
     "output_type": "execute_result"
    }
   ],
   "source": [
    "# Item assignment in nested list\n",
    "\n",
    "lang2[0][1]='Pet'\n",
    "lang2"
   ]
  },
  {
   "cell_type": "code",
   "execution_count": 112,
   "metadata": {},
   "outputs": [
    {
     "data": {
      "text/plain": [
       "[['My', 'Pet'],\n",
       " ('Shobhit', 'Sharma'),\n",
       " 'Raj',\n",
       " 'Dheeraj',\n",
       " ['Ram', 'jai'],\n",
       " 'Peeter',\n",
       " {1, 2, 3},\n",
       " {'Name': 'SHobhit', 'Age': 30}]"
      ]
     },
     "execution_count": 112,
     "metadata": {},
     "output_type": "execute_result"
    }
   ],
   "source": [
    "lang2[:]"
   ]
  },
  {
   "cell_type": "code",
   "execution_count": 3,
   "metadata": {},
   "outputs": [
    {
     "data": {
      "text/plain": [
       "[('Shobhit', 'Sharma'), 'Raj', 'Dheeraj']"
      ]
     },
     "execution_count": 3,
     "metadata": {},
     "output_type": "execute_result"
    }
   ],
   "source": [
    "lang2[1:4]"
   ]
  },
  {
   "cell_type": "code",
   "execution_count": 4,
   "metadata": {},
   "outputs": [
    {
     "data": {
      "text/plain": [
       "[]"
      ]
     },
     "execution_count": 4,
     "metadata": {},
     "output_type": "execute_result"
    }
   ],
   "source": [
    "lang2[-1:1]"
   ]
  },
  {
   "cell_type": "code",
   "execution_count": 7,
   "metadata": {},
   "outputs": [
    {
     "data": {
      "text/plain": [
       "['Peeter']"
      ]
     },
     "execution_count": 7,
     "metadata": {},
     "output_type": "execute_result"
    }
   ],
   "source": [
    "lang2[-3:6]"
   ]
  },
  {
   "cell_type": "code",
   "execution_count": 9,
   "metadata": {},
   "outputs": [
    {
     "data": {
      "text/plain": [
       "['red', 'pink', 'blue']"
      ]
     },
     "execution_count": 9,
     "metadata": {},
     "output_type": "execute_result"
    }
   ],
   "source": [
    "colors =['red','pink','blue']\n",
    "colors"
   ]
  },
  {
   "cell_type": "code",
   "execution_count": 10,
   "metadata": {},
   "outputs": [
    {
     "data": {
      "text/plain": [
       "[0, 1, 2, 3, 4, 5, 6]"
      ]
     },
     "execution_count": 10,
     "metadata": {},
     "output_type": "execute_result"
    }
   ],
   "source": [
    "colors = list(range(0,7))\n",
    "colors"
   ]
  },
  {
   "cell_type": "code",
   "execution_count": 11,
   "metadata": {},
   "outputs": [
    {
     "data": {
      "text/plain": [
       "[6, 5, 4, 2, 1, 3, 4, 5, 6]"
      ]
     },
     "execution_count": 11,
     "metadata": {},
     "output_type": "execute_result"
    }
   ],
   "source": [
    "colors[:3] =[6,5,4,2,1]\n",
    "colors"
   ]
  },
  {
   "cell_type": "code",
   "execution_count": 12,
   "metadata": {},
   "outputs": [],
   "source": [
    "del colors"
   ]
  },
  {
   "cell_type": "code",
   "execution_count": 16,
   "metadata": {},
   "outputs": [
    {
     "data": {
      "text/plain": [
       "[0, 1, 2, 3, 4, 5, 6]"
      ]
     },
     "execution_count": 16,
     "metadata": {},
     "output_type": "execute_result"
    }
   ],
   "source": [
    "colors = list(range(0,7))\n",
    "colors"
   ]
  },
  {
   "cell_type": "code",
   "execution_count": 17,
   "metadata": {},
   "outputs": [
    {
     "data": {
      "text/plain": [
       "[0, 1, 2, 3, 4, 6]"
      ]
     },
     "execution_count": 17,
     "metadata": {},
     "output_type": "execute_result"
    }
   ],
   "source": [
    "del colors[5]\n",
    "colors"
   ]
  },
  {
   "cell_type": "code",
   "execution_count": 19,
   "metadata": {},
   "outputs": [
    {
     "data": {
      "text/plain": [
       "[1, 2, 3, 4, 5, 6]"
      ]
     },
     "execution_count": 19,
     "metadata": {},
     "output_type": "execute_result"
    }
   ],
   "source": [
    "a=[1,2,3]\n",
    "b=[4,5,6]\n",
    "a+b"
   ]
  },
  {
   "cell_type": "code",
   "execution_count": 20,
   "metadata": {},
   "outputs": [
    {
     "data": {
      "text/plain": [
       "([1, 2, 3], [4, 5, 6])"
      ]
     },
     "execution_count": 20,
     "metadata": {},
     "output_type": "execute_result"
    }
   ],
   "source": [
    "a,b"
   ]
  },
  {
   "cell_type": "code",
   "execution_count": 21,
   "metadata": {},
   "outputs": [
    {
     "data": {
      "text/plain": [
       "([4, 5, 6], [1, 2, 3])"
      ]
     },
     "execution_count": 21,
     "metadata": {},
     "output_type": "execute_result"
    }
   ],
   "source": [
    "b,a"
   ]
  },
  {
   "cell_type": "code",
   "execution_count": 22,
   "metadata": {},
   "outputs": [
    {
     "data": {
      "text/plain": [
       "[4, 5, 6, 1, 2, 3]"
      ]
     },
     "execution_count": 22,
     "metadata": {},
     "output_type": "execute_result"
    }
   ],
   "source": [
    "b+a"
   ]
  },
  {
   "cell_type": "code",
   "execution_count": 27,
   "metadata": {},
   "outputs": [],
   "source": [
    "del a"
   ]
  },
  {
   "cell_type": "code",
   "execution_count": 28,
   "metadata": {},
   "outputs": [],
   "source": [
    "a=[1,2,3]"
   ]
  },
  {
   "cell_type": "code",
   "execution_count": 29,
   "metadata": {},
   "outputs": [
    {
     "data": {
      "text/plain": [
       "[1, 2, 3]"
      ]
     },
     "execution_count": 29,
     "metadata": {},
     "output_type": "execute_result"
    }
   ],
   "source": [
    "a"
   ]
  },
  {
   "cell_type": "code",
   "execution_count": 30,
   "metadata": {},
   "outputs": [],
   "source": [
    "b=a*3"
   ]
  },
  {
   "cell_type": "code",
   "execution_count": 31,
   "metadata": {},
   "outputs": [
    {
     "data": {
      "text/plain": [
       "[1, 2, 3, 1, 2, 3, 1, 2, 3]"
      ]
     },
     "execution_count": 31,
     "metadata": {},
     "output_type": "execute_result"
    }
   ],
   "source": [
    "b"
   ]
  },
  {
   "cell_type": "code",
   "execution_count": 32,
   "metadata": {},
   "outputs": [
    {
     "data": {
      "text/plain": [
       "True"
      ]
     },
     "execution_count": 32,
     "metadata": {},
     "output_type": "execute_result"
    }
   ],
   "source": [
    "1 in a"
   ]
  },
  {
   "cell_type": "code",
   "execution_count": 33,
   "metadata": {},
   "outputs": [
    {
     "data": {
      "text/plain": [
       "False"
      ]
     },
     "execution_count": 33,
     "metadata": {},
     "output_type": "execute_result"
    }
   ],
   "source": [
    "7 in a"
   ]
  },
  {
   "cell_type": "code",
   "execution_count": 35,
   "metadata": {},
   "outputs": [
    {
     "name": "stdout",
     "output_type": "stream",
     "text": [
      "0 is even number\n",
      "2 is even number\n",
      "4 is even number\n",
      "6 is even number\n",
      "8 is even number\n",
      "10 is even number\n",
      "12 is even number\n",
      "14 is even number\n",
      "16 is even number\n",
      "18 is even number\n",
      "20 is even number\n",
      "22 is even number\n",
      "24 is even number\n",
      "26 is even number\n",
      "28 is even number\n",
      "30 is even number\n",
      "32 is even number\n",
      "34 is even number\n",
      "36 is even number\n",
      "38 is even number\n",
      "40 is even number\n",
      "42 is even number\n",
      "44 is even number\n",
      "46 is even number\n",
      "48 is even number\n"
     ]
    }
   ],
   "source": [
    "for i in list(range(0,50)):\n",
    "    if i%2 == 0:\n",
    "        print (f'{i} is even number')"
   ]
  },
  {
   "cell_type": "code",
   "execution_count": 38,
   "metadata": {},
   "outputs": [
    {
     "data": {
      "text/plain": [
       "[2, 4, 6, 8, 10, 12, 14, 16, 18, 20]"
      ]
     },
     "execution_count": 38,
     "metadata": {},
     "output_type": "execute_result"
    }
   ],
   "source": [
    "even=[2*i for i in range(1,11)]\n",
    "even"
   ]
  },
  {
   "cell_type": "code",
   "execution_count": 39,
   "metadata": {},
   "outputs": [
    {
     "data": {
      "text/plain": [
       "10"
      ]
     },
     "execution_count": 39,
     "metadata": {},
     "output_type": "execute_result"
    }
   ],
   "source": [
    "len(even)"
   ]
  },
  {
   "cell_type": "code",
   "execution_count": 41,
   "metadata": {},
   "outputs": [
    {
     "data": {
      "text/plain": [
       "20"
      ]
     },
     "execution_count": 41,
     "metadata": {},
     "output_type": "execute_result"
    }
   ],
   "source": [
    "max(even)\n",
    "#min(even)"
   ]
  },
  {
   "cell_type": "code",
   "execution_count": 42,
   "metadata": {},
   "outputs": [
    {
     "data": {
      "text/plain": [
       "23323"
      ]
     },
     "execution_count": 42,
     "metadata": {},
     "output_type": "execute_result"
    }
   ],
   "source": [
    "max([1,34,345,12,213,123,23323,12312,3123,123,123,12,312,3,123,12])"
   ]
  },
  {
   "cell_type": "code",
   "execution_count": 43,
   "metadata": {},
   "outputs": [
    {
     "data": {
      "text/plain": [
       "110"
      ]
     },
     "execution_count": 43,
     "metadata": {},
     "output_type": "execute_result"
    }
   ],
   "source": [
    "sum(even)"
   ]
  },
  {
   "cell_type": "code",
   "execution_count": 46,
   "metadata": {},
   "outputs": [
    {
     "data": {
      "text/plain": [
       "[5, 5, 23, 24, 31, 32, 53, 234, 234, 234, 312, 324, 2321, 5432]"
      ]
     },
     "execution_count": 46,
     "metadata": {},
     "output_type": "execute_result"
    }
   ],
   "source": [
    "sorted([234,234,234,24,2321,312,31,23,324,32,5,5432,53,5])"
   ]
  },
  {
   "cell_type": "code",
   "execution_count": 47,
   "metadata": {},
   "outputs": [
    {
     "data": {
      "text/plain": [
       "['s', 'h', 'o', 'b', 'h', 'i', 't']"
      ]
     },
     "execution_count": 47,
     "metadata": {},
     "output_type": "execute_result"
    }
   ],
   "source": [
    "list('shobhit')"
   ]
  },
  {
   "cell_type": "code",
   "execution_count": 48,
   "metadata": {},
   "outputs": [
    {
     "data": {
      "text/plain": [
       "[1, 2, 3]"
      ]
     },
     "execution_count": 48,
     "metadata": {},
     "output_type": "execute_result"
    }
   ],
   "source": [
    "a"
   ]
  },
  {
   "cell_type": "code",
   "execution_count": 49,
   "metadata": {},
   "outputs": [
    {
     "data": {
      "text/plain": [
       "True"
      ]
     },
     "execution_count": 49,
     "metadata": {},
     "output_type": "execute_result"
    }
   ],
   "source": [
    "any(a)"
   ]
  },
  {
   "cell_type": "code",
   "execution_count": 50,
   "metadata": {},
   "outputs": [
    {
     "data": {
      "text/plain": [
       "True"
      ]
     },
     "execution_count": 50,
     "metadata": {},
     "output_type": "execute_result"
    }
   ],
   "source": [
    "all(a)"
   ]
  },
  {
   "cell_type": "code",
   "execution_count": 51,
   "metadata": {},
   "outputs": [
    {
     "data": {
      "text/plain": [
       "[1, 2, 3, 1, 2, 3, 1, 2, 3]"
      ]
     },
     "execution_count": 51,
     "metadata": {},
     "output_type": "execute_result"
    }
   ],
   "source": [
    "b"
   ]
  },
  {
   "cell_type": "code",
   "execution_count": 52,
   "metadata": {},
   "outputs": [],
   "source": [
    "b.append(5)"
   ]
  },
  {
   "cell_type": "code",
   "execution_count": 53,
   "metadata": {},
   "outputs": [
    {
     "data": {
      "text/plain": [
       "[1, 2, 3, 1, 2, 3, 1, 2, 3, 5]"
      ]
     },
     "execution_count": 53,
     "metadata": {},
     "output_type": "execute_result"
    }
   ],
   "source": [
    "b"
   ]
  },
  {
   "cell_type": "code",
   "execution_count": 54,
   "metadata": {},
   "outputs": [
    {
     "data": {
      "text/plain": [
       "[1, 2, 3, 1, 2, 3, 1, 2, 3, 5, '']"
      ]
     },
     "execution_count": 54,
     "metadata": {},
     "output_type": "execute_result"
    }
   ],
   "source": [
    "b.append('')\n",
    "b"
   ]
  },
  {
   "cell_type": "code",
   "execution_count": 55,
   "metadata": {},
   "outputs": [
    {
     "data": {
      "text/plain": [
       "False"
      ]
     },
     "execution_count": 55,
     "metadata": {},
     "output_type": "execute_result"
    }
   ],
   "source": [
    "all(b)"
   ]
  },
  {
   "cell_type": "code",
   "execution_count": 56,
   "metadata": {
    "scrolled": true
   },
   "outputs": [
    {
     "data": {
      "text/plain": [
       "[1, 2, 3]"
      ]
     },
     "execution_count": 56,
     "metadata": {},
     "output_type": "execute_result"
    }
   ],
   "source": [
    "a"
   ]
  },
  {
   "cell_type": "code",
   "execution_count": 58,
   "metadata": {},
   "outputs": [],
   "source": [
    "a.append(4)\n",
    "a.append(8)"
   ]
  },
  {
   "cell_type": "code",
   "execution_count": 59,
   "metadata": {},
   "outputs": [
    {
     "data": {
      "text/plain": [
       "[1, 2, 3, 4, 8]"
      ]
     },
     "execution_count": 59,
     "metadata": {},
     "output_type": "execute_result"
    }
   ],
   "source": [
    "a"
   ]
  },
  {
   "cell_type": "code",
   "execution_count": 60,
   "metadata": {},
   "outputs": [
    {
     "data": {
      "text/plain": [
       "[1, 2, 3, 4, 8, 10, 9]"
      ]
     },
     "execution_count": 60,
     "metadata": {},
     "output_type": "execute_result"
    }
   ],
   "source": [
    "a.append(10)\n",
    "a.append(9)\n",
    "a"
   ]
  },
  {
   "cell_type": "code",
   "execution_count": 61,
   "metadata": {},
   "outputs": [
    {
     "data": {
      "text/plain": [
       "[1, 2, 3, 4, 8, 10, 9, 4]"
      ]
     },
     "execution_count": 61,
     "metadata": {},
     "output_type": "execute_result"
    }
   ],
   "source": [
    "a.append(4)\n",
    "a"
   ]
  },
  {
   "cell_type": "code",
   "execution_count": 62,
   "metadata": {},
   "outputs": [],
   "source": [
    "a.remove(4)"
   ]
  },
  {
   "cell_type": "code",
   "execution_count": 63,
   "metadata": {},
   "outputs": [
    {
     "data": {
      "text/plain": [
       "[1, 2, 3, 8, 10, 9, 4]"
      ]
     },
     "execution_count": 63,
     "metadata": {},
     "output_type": "execute_result"
    }
   ],
   "source": [
    "a"
   ]
  },
  {
   "cell_type": "code",
   "execution_count": 64,
   "metadata": {},
   "outputs": [
    {
     "data": {
      "text/plain": [
       "10"
      ]
     },
     "execution_count": 64,
     "metadata": {},
     "output_type": "execute_result"
    }
   ],
   "source": [
    "a.pop(4)"
   ]
  },
  {
   "cell_type": "code",
   "execution_count": 65,
   "metadata": {},
   "outputs": [
    {
     "data": {
      "text/plain": [
       "[1, 2, 3, 8, 9, 4]"
      ]
     },
     "execution_count": 65,
     "metadata": {},
     "output_type": "execute_result"
    }
   ],
   "source": [
    "a"
   ]
  },
  {
   "cell_type": "code",
   "execution_count": 66,
   "metadata": {},
   "outputs": [
    {
     "data": {
      "text/plain": [
       "3"
      ]
     },
     "execution_count": 66,
     "metadata": {},
     "output_type": "execute_result"
    }
   ],
   "source": [
    "a.index(8)"
   ]
  },
  {
   "cell_type": "code",
   "execution_count": 67,
   "metadata": {},
   "outputs": [],
   "source": [
    "a.append(3)"
   ]
  },
  {
   "cell_type": "code",
   "execution_count": 68,
   "metadata": {},
   "outputs": [
    {
     "data": {
      "text/plain": [
       "2"
      ]
     },
     "execution_count": 68,
     "metadata": {},
     "output_type": "execute_result"
    }
   ],
   "source": [
    "a.index(3)"
   ]
  },
  {
   "cell_type": "code",
   "execution_count": 69,
   "metadata": {},
   "outputs": [
    {
     "data": {
      "text/plain": [
       "[1, 2, 3, 8, 9, 4, 3]"
      ]
     },
     "execution_count": 69,
     "metadata": {},
     "output_type": "execute_result"
    }
   ],
   "source": [
    "a"
   ]
  },
  {
   "cell_type": "code",
   "execution_count": 71,
   "metadata": {},
   "outputs": [
    {
     "data": {
      "text/plain": [
       "2"
      ]
     },
     "execution_count": 71,
     "metadata": {},
     "output_type": "execute_result"
    }
   ],
   "source": [
    "a.count(3)"
   ]
  },
  {
   "cell_type": "raw",
   "metadata": {},
   "source": [
    ".sort()"
   ]
  },
  {
   "cell_type": "code",
   "execution_count": 72,
   "metadata": {},
   "outputs": [],
   "source": [
    "a.sort()"
   ]
  },
  {
   "cell_type": "code",
   "execution_count": 73,
   "metadata": {},
   "outputs": [
    {
     "data": {
      "text/plain": [
       "[1, 2, 3, 3, 4, 8, 9]"
      ]
     },
     "execution_count": 73,
     "metadata": {},
     "output_type": "execute_result"
    }
   ],
   "source": [
    "a"
   ]
  },
  {
   "cell_type": "code",
   "execution_count": 74,
   "metadata": {},
   "outputs": [],
   "source": [
    "a.reverse()"
   ]
  },
  {
   "cell_type": "code",
   "execution_count": 76,
   "metadata": {},
   "outputs": [
    {
     "data": {
      "text/plain": [
       "[9, 8, 4, 3, 3, 2, 1]"
      ]
     },
     "execution_count": 76,
     "metadata": {},
     "output_type": "execute_result"
    }
   ],
   "source": [
    "a"
   ]
  },
  {
   "cell_type": "code",
   "execution_count": 77,
   "metadata": {},
   "outputs": [
    {
     "data": {
      "text/plain": [
       "[9, 8, 4, 3, 3, 2, 1]"
      ]
     },
     "execution_count": 77,
     "metadata": {},
     "output_type": "execute_result"
    }
   ],
   "source": [
    "a"
   ]
  },
  {
   "cell_type": "markdown",
   "metadata": {},
   "source": [
    "# Tuple1"
   ]
  },
  {
   "cell_type": "code",
   "execution_count": 78,
   "metadata": {},
   "outputs": [
    {
     "data": {
      "text/plain": [
       "(1,)"
      ]
     },
     "execution_count": 78,
     "metadata": {},
     "output_type": "execute_result"
    }
   ],
   "source": [
    "tup = 1,\n",
    "tup"
   ]
  },
  {
   "cell_type": "code",
   "execution_count": 79,
   "metadata": {},
   "outputs": [
    {
     "data": {
      "text/plain": [
       "tuple"
      ]
     },
     "execution_count": 79,
     "metadata": {},
     "output_type": "execute_result"
    }
   ],
   "source": [
    "type(tup)"
   ]
  },
  {
   "cell_type": "code",
   "execution_count": 80,
   "metadata": {},
   "outputs": [
    {
     "name": "stdout",
     "output_type": "stream",
     "text": [
      "<class 'tuple'>\n"
     ]
    }
   ],
   "source": [
    "print(type(tup))"
   ]
  },
  {
   "cell_type": "code",
   "execution_count": 81,
   "metadata": {},
   "outputs": [],
   "source": [
    "tup=(1,2,3,4,5)"
   ]
  },
  {
   "cell_type": "code",
   "execution_count": 82,
   "metadata": {},
   "outputs": [
    {
     "data": {
      "text/plain": [
       "(1, 2, 3, 4, 5)"
      ]
     },
     "execution_count": 82,
     "metadata": {},
     "output_type": "execute_result"
    }
   ],
   "source": [
    "tup"
   ]
  },
  {
   "cell_type": "code",
   "execution_count": 83,
   "metadata": {},
   "outputs": [],
   "source": [
    "tup=(2,3,4,5,6,7)"
   ]
  },
  {
   "cell_type": "code",
   "execution_count": 84,
   "metadata": {},
   "outputs": [
    {
     "data": {
      "text/plain": [
       "(2, 3, 4, 5, 6, 7)"
      ]
     },
     "execution_count": 84,
     "metadata": {},
     "output_type": "execute_result"
    }
   ],
   "source": [
    "tup"
   ]
  },
  {
   "cell_type": "code",
   "execution_count": 86,
   "metadata": {},
   "outputs": [
    {
     "data": {
      "text/plain": [
       "5"
      ]
     },
     "execution_count": 86,
     "metadata": {},
     "output_type": "execute_result"
    }
   ],
   "source": [
    "tup[3]"
   ]
  },
  {
   "cell_type": "code",
   "execution_count": 87,
   "metadata": {},
   "outputs": [
    {
     "name": "stdout",
     "output_type": "stream",
     "text": [
      "(0, 1, 2, 3, 4)\n"
     ]
    }
   ],
   "source": [
    "print(tuple(range(0,5)))"
   ]
  },
  {
   "cell_type": "code",
   "execution_count": 6,
   "metadata": {},
   "outputs": [
    {
     "data": {
      "text/plain": [
       "'C:\\\\Users\\\\shobhit.sharma\\\\Documents\\\\Python Scripts'"
      ]
     },
     "execution_count": 6,
     "metadata": {},
     "output_type": "execute_result"
    }
   ],
   "source": [
    "%pwd"
   ]
  },
  {
   "cell_type": "code",
   "execution_count": 3,
   "metadata": {},
   "outputs": [
    {
     "name": "stdout",
     "output_type": "stream",
     "text": [
      "Please Type Your Name\n",
      "Hy\n",
      "Please Type Your Name\n",
      "Shobhit\n",
      "Thanks  Shobhit\n"
     ]
    }
   ],
   "source": [
    "name = ''\n",
    "while name != 'Shobhit':\n",
    "    print ('Please Type Your Name')\n",
    "    name=input()\n",
    "print ('Thanks ' , name)"
   ]
  },
  {
   "cell_type": "code",
   "execution_count": null,
   "metadata": {},
   "outputs": [],
   "source": []
  }
 ],
 "metadata": {
  "kernelspec": {
   "display_name": "Python 3",
   "language": "python",
   "name": "python3"
  },
  "language_info": {
   "codemirror_mode": {
    "name": "ipython",
    "version": 3
   },
   "file_extension": ".py",
   "mimetype": "text/x-python",
   "name": "python",
   "nbconvert_exporter": "python",
   "pygments_lexer": "ipython3",
   "version": "3.7.3"
  },
  "widgets": {
   "application/vnd.jupyter.widget-state+json": {
    "state": {},
    "version_major": 2,
    "version_minor": 0
   }
  }
 },
 "nbformat": 4,
 "nbformat_minor": 2
}
